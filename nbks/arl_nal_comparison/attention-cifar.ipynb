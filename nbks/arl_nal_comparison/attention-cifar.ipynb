{
 "cells": [
  {
   "cell_type": "markdown",
   "metadata": {
    "id": "rYJNBte6ywyx"
   },
   "source": [
    "# Initialization"
   ]
  },
  {
   "cell_type": "markdown",
   "metadata": {},
   "source": [
    "## Import Libraries"
   ]
  },
  {
   "cell_type": "code",
   "execution_count": 1,
   "metadata": {
    "ExecuteTime": {
     "end_time": "2021-12-10T01:23:36.615892Z",
     "start_time": "2021-12-10T01:23:33.449066Z"
    },
    "colab": {
     "base_uri": "https://localhost:8080/"
    },
    "id": "7vt2mF-9ylH6",
    "outputId": "df1a73e7-6e35-4ab2-854f-e9384e8f6406"
   },
   "outputs": [
    {
     "name": "stdout",
     "output_type": "stream",
     "text": [
      "[PhysicalDevice(name='/physical_device:GPU:0', device_type='GPU')]\n"
     ]
    },
    {
     "name": "stderr",
     "output_type": "stream",
     "text": [
      "2021-12-10 01:23:36.569126: I tensorflow/stream_executor/cuda/cuda_gpu_executor.cc:939] successful NUMA node read from SysFS had negative value (-1), but there must be at least one NUMA node, so returning NUMA node zero\n",
      "2021-12-10 01:23:36.579413: I tensorflow/stream_executor/cuda/cuda_gpu_executor.cc:939] successful NUMA node read from SysFS had negative value (-1), but there must be at least one NUMA node, so returning NUMA node zero\n",
      "2021-12-10 01:23:36.580091: I tensorflow/stream_executor/cuda/cuda_gpu_executor.cc:939] successful NUMA node read from SysFS had negative value (-1), but there must be at least one NUMA node, so returning NUMA node zero\n"
     ]
    }
   ],
   "source": [
    "# data processing\n",
    "import numpy as np\n",
    "import pandas as pd \n",
    "from collections import defaultdict\n",
    "import time\n",
    "\n",
    "# data visualization\n",
    "import seaborn as sns\n",
    "%config InlineBackend.figure_format = 'retina'\n",
    "%matplotlib inline\n",
    "from matplotlib import pyplot as plt\n",
    "from matplotlib import style\n",
    "sns.set()\n",
    "import urllib.request\n",
    "\n",
    "\n",
    "import tensorflow as tf\n",
    "print(tf.config.list_physical_devices('GPU'))\n",
    "from tensorflow import keras\n",
    "from tensorflow.keras.callbacks import ModelCheckpoint, LearningRateScheduler\n",
    "from tensorflow.keras.callbacks import ReduceLROnPlateau, CSVLogger, EarlyStopping\n",
    "\n",
    "# Notebook auto reloads code. (Ref: http://stackoverflow.com/questions/1907993/autoreload-of-modules-in-ipython)\n",
    "%load_ext autoreload\n",
    "%autoreload 2"
   ]
  },
  {
   "cell_type": "markdown",
   "metadata": {},
   "source": [
    "## Import Custom Module"
   ]
  },
  {
   "cell_type": "code",
   "execution_count": 2,
   "metadata": {
    "ExecuteTime": {
     "end_time": "2021-12-10T01:23:36.651105Z",
     "start_time": "2021-12-10T01:23:36.617803Z"
    },
    "id": "9ZKnBQTCGh7V",
    "outputId": "4e0582b7-1c27-4ca6-c0d4-ba44ea765d85"
   },
   "outputs": [],
   "source": [
    "#adjust filepath so that working directory is folder \"recreating-residual-attention-network\"\n",
    "import os\n",
    "\n",
    "PROJECT_PATH = '/home/ecbm4040/recreating-residual-attention-network'\n",
    "os.chdir(PROJECT_PATH)"
   ]
  },
  {
   "cell_type": "code",
   "execution_count": null,
   "metadata": {
    "ExecuteTime": {
     "start_time": "2021-12-10T00:15:35.188Z"
    },
    "colab": {
     "base_uri": "https://localhost:8080/"
    },
    "id": "Joy5pYymy1eS",
    "outputId": "817fa4c3-e7c4-4777-962e-854bd0f53a38"
   },
   "outputs": [],
   "source": [
    "# If using Google Colab\n",
    "from google.colab import drive\n",
    "BASE_PATH = '/content/drive'\n",
    "drive.mount(BASE_PATH)\n",
    "\n",
    "# change directory\n",
    "import os\n",
    "PROJECT_PATH = os.path.join(BASE_PATH, \"MyDrive\", \"ECBM4040\", \"FinalProject\", \"recreating-residual-attention-network\")\n",
    "os.chdir(PROJECT_PATH)"
   ]
  },
  {
   "cell_type": "code",
   "execution_count": null,
   "metadata": {},
   "outputs": [],
   "source": []
  },
  {
   "cell_type": "code",
   "execution_count": 3,
   "metadata": {
    "ExecuteTime": {
     "end_time": "2021-12-10T01:23:37.417352Z",
     "start_time": "2021-12-10T01:23:36.652555Z"
    },
    "id": "LvOmr1Eyy28a",
    "scrolled": true
   },
   "outputs": [
    {
     "name": "stderr",
     "output_type": "stream",
     "text": [
      "2021-12-10 01:23:36.700529: I tensorflow/core/platform/cpu_feature_guard.cc:151] This TensorFlow binary is optimized with oneAPI Deep Neural Network Library (oneDNN) to use the following CPU instructions in performance-critical operations:  AVX2 AVX512F FMA\n",
      "To enable them in other operations, rebuild TensorFlow with the appropriate compiler flags.\n",
      "2021-12-10 01:23:36.701476: I tensorflow/stream_executor/cuda/cuda_gpu_executor.cc:939] successful NUMA node read from SysFS had negative value (-1), but there must be at least one NUMA node, so returning NUMA node zero\n",
      "2021-12-10 01:23:36.702215: I tensorflow/stream_executor/cuda/cuda_gpu_executor.cc:939] successful NUMA node read from SysFS had negative value (-1), but there must be at least one NUMA node, so returning NUMA node zero\n",
      "2021-12-10 01:23:36.702792: I tensorflow/stream_executor/cuda/cuda_gpu_executor.cc:939] successful NUMA node read from SysFS had negative value (-1), but there must be at least one NUMA node, so returning NUMA node zero\n",
      "2021-12-10 01:23:37.212060: I tensorflow/stream_executor/cuda/cuda_gpu_executor.cc:939] successful NUMA node read from SysFS had negative value (-1), but there must be at least one NUMA node, so returning NUMA node zero\n",
      "2021-12-10 01:23:37.212754: I tensorflow/stream_executor/cuda/cuda_gpu_executor.cc:939] successful NUMA node read from SysFS had negative value (-1), but there must be at least one NUMA node, so returning NUMA node zero\n",
      "2021-12-10 01:23:37.213414: I tensorflow/stream_executor/cuda/cuda_gpu_executor.cc:939] successful NUMA node read from SysFS had negative value (-1), but there must be at least one NUMA node, so returning NUMA node zero\n",
      "2021-12-10 01:23:37.213993: I tensorflow/core/common_runtime/gpu/gpu_device.cc:1525] Created device /job:localhost/replica:0/task:0/device:GPU:0 with 14660 MB memory:  -> device: 0, name: Tesla V100-SXM2-16GB, pci bus id: 0000:00:04.0, compute capability: 7.0\n"
     ]
    }
   ],
   "source": [
    "# Import created modules\n",
    "from src.models.ResidualAttentionNetwork import ResidualAttentionNetwork, Attention56, Attention92, Attention128, Attention164\n",
    "from src.utils import generate_data"
   ]
  },
  {
   "cell_type": "markdown",
   "metadata": {},
   "source": [
    "## Custom Callbacks"
   ]
  },
  {
   "cell_type": "code",
   "execution_count": 4,
   "metadata": {
    "ExecuteTime": {
     "end_time": "2021-12-10T01:23:37.912785Z",
     "start_time": "2021-12-10T01:23:37.876312Z"
    }
   },
   "outputs": [],
   "source": [
    "### Callback to save per epoch time\n",
    "class TimeHistory(tf.keras.callbacks.Callback):\n",
    "    def on_train_begin(self, logs={}):\n",
    "        self.times = []\n",
    "\n",
    "    def on_epoch_begin(self, epoch, logs={}):\n",
    "        self.epoch_time_start = time.time()\n",
    "\n",
    "    def on_epoch_end(self, epoch, logs={}):\n",
    "        self.times.append(time.time() - self.epoch_time_start)\n",
    "        # Save epoch time directly on the csv_logger\n",
    "        logs['per_epoch_time'] = time.time() - self.epoch_time_start\n",
    "\n",
    "### Callback to stop when certain accuracy is reached\n",
    "class EarlyStoppingByAccuracy(tf.keras.callbacks.Callback):\n",
    "    def __init__(self, monitor='accuracy', value=0.98, verbose=0):\n",
    "        super(tf.keras.callbacks.Callback, self).__init__()\n",
    "        self.monitor = monitor\n",
    "        self.value = value\n",
    "        self.verbose = verbose\n",
    "\n",
    "    def on_epoch_end(self, epoch, logs={}):\n",
    "        current = logs.get(self.monitor)\n",
    "        if current is None:\n",
    "            warnings.warn(\"Early stopping requires %s available!\" % self.monitor, RuntimeWarning)\n",
    "\n",
    "        if current >= self.value:\n",
    "            if self.verbose > 0:\n",
    "                print(\"Epoch %05d: early stopping THR\" % epoch)\n",
    "            self.model.stop_training = True"
   ]
  },
  {
   "cell_type": "markdown",
   "metadata": {
    "id": "7HsCtgLcy6Fa"
   },
   "source": [
    "# Modelling CIFAR-10"
   ]
  },
  {
   "cell_type": "code",
   "execution_count": 5,
   "metadata": {
    "ExecuteTime": {
     "end_time": "2021-12-10T01:23:44.191460Z",
     "start_time": "2021-12-10T01:23:40.770128Z"
    },
    "id": "4kL-cGAdy-Sv"
   },
   "outputs": [],
   "source": [
    "INPUT_SHAPE, NUM_CLASS, train_ds, val_ds, test_ds, _ = generate_data.get_cifar10()"
   ]
  },
  {
   "cell_type": "code",
   "execution_count": 6,
   "metadata": {
    "ExecuteTime": {
     "end_time": "2021-12-10T01:23:44.225289Z",
     "start_time": "2021-12-10T01:23:44.193387Z"
    },
    "id": "q_GjVa2qzAkp"
   },
   "outputs": [],
   "source": [
    "BATCH_SIZE = 256"
   ]
  },
  {
   "cell_type": "code",
   "execution_count": 7,
   "metadata": {
    "ExecuteTime": {
     "end_time": "2021-12-10T01:23:44.268383Z",
     "start_time": "2021-12-10T01:23:44.227068Z"
    },
    "id": "Iq-54lS_-Dh_"
   },
   "outputs": [],
   "source": [
    "train_ds = train_ds.shuffle(buffer_size=BATCH_SIZE*4).batch(BATCH_SIZE).prefetch(buffer_size=tf.data.AUTOTUNE)\n",
    "val_ds = val_ds.shuffle(buffer_size=BATCH_SIZE*4).batch(BATCH_SIZE).prefetch(buffer_size=tf.data.AUTOTUNE)\n",
    "test_ds = test_ds.shuffle(buffer_size=BATCH_SIZE*4).batch(BATCH_SIZE).prefetch(buffer_size=tf.data.AUTOTUNE)"
   ]
  },
  {
   "cell_type": "code",
   "execution_count": 8,
   "metadata": {
    "ExecuteTime": {
     "end_time": "2021-12-10T01:23:44.301270Z",
     "start_time": "2021-12-10T01:23:44.270147Z"
    }
   },
   "outputs": [],
   "source": [
    "STEP_SIZE = len(train_ds)"
   ]
  },
  {
   "cell_type": "code",
   "execution_count": null,
   "metadata": {},
   "outputs": [],
   "source": []
  },
  {
   "cell_type": "markdown",
   "metadata": {
    "id": "nkDFCeNs5X2E"
   },
   "source": [
    "## Naive Attention Learning\n",
    "\n",
    "In this part, the experiment is done using Naive Attention Learning mechanism"
   ]
  },
  {
   "cell_type": "markdown",
   "metadata": {
    "id": "WYraP1xc5pkQ"
   },
   "source": [
    "### Attention-56"
   ]
  },
  {
   "cell_type": "code",
   "execution_count": 9,
   "metadata": {
    "ExecuteTime": {
     "end_time": "2021-12-10T01:23:48.672889Z",
     "start_time": "2021-12-10T01:23:48.641704Z"
    }
   },
   "outputs": [],
   "source": [
    "N_EPOCH = 100\n",
    "LR = 1e-3"
   ]
  },
  {
   "cell_type": "code",
   "execution_count": 10,
   "metadata": {
    "ExecuteTime": {
     "end_time": "2021-12-10T01:23:51.765671Z",
     "start_time": "2021-12-10T01:23:49.155186Z"
    },
    "colab": {
     "base_uri": "https://localhost:8080/"
    },
    "id": "HzhK0LIjzDjy",
    "outputId": "79e438f2-bfb8-4166-92df-6901482abfa2",
    "scrolled": true
   },
   "outputs": [
    {
     "name": "stdout",
     "output_type": "stream",
     "text": [
      "Model: \"attention56\"\n",
      "_________________________________________________________________\n",
      " Layer (type)                Output Shape              Param #   \n",
      "=================================================================\n",
      " sequential_1 (Sequential)   (None, 32, 32, 3)         0         \n",
      "                                                                 \n",
      " conv2d (Conv2D)             multiple                  864       \n",
      "                                                                 \n",
      " batch_normalization (BatchN  multiple                 128       \n",
      " ormalization)                                                   \n",
      "                                                                 \n",
      " re_lu (ReLU)                multiple                  0         \n",
      "                                                                 \n",
      " max_pooling2d (MaxPooling2D  multiple                 0         \n",
      " )                                                               \n",
      "                                                                 \n",
      " residual_unit (ResidualUnit  multiple                 19520     \n",
      " )                                                               \n",
      "                                                                 \n",
      " attention_module (Attention  multiple                 452352    \n",
      " Module)                                                         \n",
      "                                                                 \n",
      " residual_unit_13 (ResidualU  multiple                 96384     \n",
      " nit)                                                            \n",
      "                                                                 \n",
      " attention_module_1 (Attenti  multiple                 1369216   \n",
      " onModule)                                                       \n",
      "                                                                 \n",
      " residual_unit_23 (ResidualU  multiple                 381184    \n",
      " nit)                                                            \n",
      "                                                                 \n",
      " attention_module_2 (Attenti  multiple                 3798528   \n",
      " onModule)                                                       \n",
      "                                                                 \n",
      " residual_unit_30 (ResidualU  multiple                 1516032   \n",
      " nit)                                                            \n",
      "                                                                 \n",
      " residual_unit_31 (ResidualU  multiple                 2171392   \n",
      " nit)                                                            \n",
      "                                                                 \n",
      " residual_unit_32 (ResidualU  multiple                 2171392   \n",
      " nit)                                                            \n",
      "                                                                 \n",
      " batch_normalization_106 (Ba  multiple                 4096      \n",
      " tchNormalization)                                               \n",
      "                                                                 \n",
      " re_lu_106 (ReLU)            multiple                  0         \n",
      "                                                                 \n",
      " average_pooling2d (AverageP  multiple                 0         \n",
      " ooling2D)                                                       \n",
      "                                                                 \n",
      " flatten (Flatten)           multiple                  0         \n",
      "                                                                 \n",
      " dropout (Dropout)           multiple                  0         \n",
      "                                                                 \n",
      " dense (Dense)               multiple                  10250     \n",
      "                                                                 \n",
      "=================================================================\n",
      "Total params: 11,991,338\n",
      "Trainable params: 11,953,002\n",
      "Non-trainable params: 38,336\n",
      "_________________________________________________________________\n"
     ]
    }
   ],
   "source": [
    "ran_model = Attention56(input_shape=INPUT_SHAPE, num_class=NUM_CLASS, learning_type='nal')\n",
    "inputs = tf.keras.Input(INPUT_SHAPE)\n",
    "ran_model(inputs)\n",
    "ran_model.summary()"
   ]
  },
  {
   "cell_type": "code",
   "execution_count": 11,
   "metadata": {
    "ExecuteTime": {
     "end_time": "2021-12-10T01:23:58.342137Z",
     "start_time": "2021-12-10T01:23:58.310260Z"
    }
   },
   "outputs": [],
   "source": [
    "## Callbacks\n",
    "time_callback = TimeHistory()\n",
    "\n",
    "# checkpointing & logger\n",
    "model_checkpointer = ModelCheckpoint(filepath=\"data/saved_weights/1-a56-nal-cifar10.h5\",\n",
    "                                     verbose=0,\n",
    "                                     save_weights_only=True,\n",
    "                                     save_best_only=False)\n",
    "\n",
    "csv_logger = CSVLogger('data/logs/1-a56-nal-cifar10.csv')\n",
    "\n",
    "callbacks = [model_checkpointer, time_callback, csv_logger]\n",
    "\n",
    "## Learning rate scheduler\n",
    "lr_schedule = tf.keras.optimizers.schedules.PiecewiseConstantDecay(\n",
    "    boundaries=[80*STEP_SIZE, 120*STEP_SIZE, 160*STEP_SIZE, 180*STEP_SIZE],\n",
    "    values=[LR, 0.1*LR, 1e-2*LR, 1e-3*LR, 0.5e-3*LR]\n",
    ")\n",
    "\n",
    "our_optimizer = tf.keras.optimizers.Adam(learning_rate=lr_schedule)"
   ]
  },
  {
   "cell_type": "code",
   "execution_count": 12,
   "metadata": {
    "ExecuteTime": {
     "end_time": "2021-12-10T01:52:38.675327Z",
     "start_time": "2021-12-10T01:24:00.175869Z"
    },
    "colab": {
     "base_uri": "https://localhost:8080/"
    },
    "id": "YkEBXW9Iy5sJ",
    "outputId": "f7dc0a10-0d40-4578-893c-1aab2f82da1b",
    "scrolled": true
   },
   "outputs": [
    {
     "name": "stdout",
     "output_type": "stream",
     "text": [
      "Epoch 1/100\n"
     ]
    },
    {
     "name": "stderr",
     "output_type": "stream",
     "text": [
      "2021-12-10 01:24:13.362181: I tensorflow/stream_executor/cuda/cuda_dnn.cc:366] Loaded cuDNN version 8200\n"
     ]
    },
    {
     "name": "stdout",
     "output_type": "stream",
     "text": [
      "157/157 [==============================] - 34s 124ms/step - loss: 2.4147 - accuracy: 0.1653 - val_loss: 2.8198 - val_accuracy: 0.1000 - per_epoch_time: 34.2333\n",
      "Epoch 2/100\n",
      "157/157 [==============================] - 17s 107ms/step - loss: 2.1098 - accuracy: 0.2437 - val_loss: 2.4934 - val_accuracy: 0.1345 - per_epoch_time: 16.8126\n",
      "Epoch 3/100\n",
      "157/157 [==============================] - 17s 107ms/step - loss: 1.9906 - accuracy: 0.2894 - val_loss: 2.1168 - val_accuracy: 0.2334 - per_epoch_time: 16.8017\n",
      "Epoch 4/100\n",
      "157/157 [==============================] - 17s 106ms/step - loss: 1.9104 - accuracy: 0.3109 - val_loss: 1.9089 - val_accuracy: 0.3151 - per_epoch_time: 16.7080\n",
      "Epoch 5/100\n",
      "157/157 [==============================] - 17s 107ms/step - loss: 1.8445 - accuracy: 0.3345 - val_loss: 1.8669 - val_accuracy: 0.3407 - per_epoch_time: 16.7772\n",
      "Epoch 6/100\n",
      "157/157 [==============================] - 17s 107ms/step - loss: 1.7991 - accuracy: 0.3466 - val_loss: 2.0127 - val_accuracy: 0.3054 - per_epoch_time: 16.8246\n",
      "Epoch 7/100\n",
      "157/157 [==============================] - 17s 108ms/step - loss: 1.7561 - accuracy: 0.3651 - val_loss: 2.0056 - val_accuracy: 0.3301 - per_epoch_time: 16.8862\n",
      "Epoch 8/100\n",
      "157/157 [==============================] - 17s 108ms/step - loss: 1.7210 - accuracy: 0.3774 - val_loss: 1.7606 - val_accuracy: 0.3855 - per_epoch_time: 16.8910\n",
      "Epoch 9/100\n",
      "157/157 [==============================] - 17s 108ms/step - loss: 1.6906 - accuracy: 0.3917 - val_loss: 1.7001 - val_accuracy: 0.4107 - per_epoch_time: 16.8891\n",
      "Epoch 10/100\n",
      "157/157 [==============================] - 17s 108ms/step - loss: 1.6622 - accuracy: 0.3987 - val_loss: 1.8860 - val_accuracy: 0.3697 - per_epoch_time: 16.9073\n",
      "Epoch 11/100\n",
      "157/157 [==============================] - 17s 108ms/step - loss: 1.6371 - accuracy: 0.4124 - val_loss: 1.7637 - val_accuracy: 0.4081 - per_epoch_time: 16.8861\n",
      "Epoch 12/100\n",
      "157/157 [==============================] - 17s 107ms/step - loss: 1.6123 - accuracy: 0.4154 - val_loss: 1.6239 - val_accuracy: 0.4316 - per_epoch_time: 16.7992\n",
      "Epoch 13/100\n",
      "157/157 [==============================] - 17s 108ms/step - loss: 1.5926 - accuracy: 0.4293 - val_loss: 1.5477 - val_accuracy: 0.4499 - per_epoch_time: 16.9668\n",
      "Epoch 14/100\n",
      "157/157 [==============================] - 17s 108ms/step - loss: 1.5666 - accuracy: 0.4393 - val_loss: 2.1334 - val_accuracy: 0.3311 - per_epoch_time: 16.9364\n",
      "Epoch 15/100\n",
      "157/157 [==============================] - 17s 107ms/step - loss: 1.5494 - accuracy: 0.4485 - val_loss: 1.7472 - val_accuracy: 0.4150 - per_epoch_time: 16.8098\n",
      "Epoch 16/100\n",
      "157/157 [==============================] - 17s 108ms/step - loss: 1.5263 - accuracy: 0.4523 - val_loss: 1.6253 - val_accuracy: 0.4471 - per_epoch_time: 16.9925\n",
      "Epoch 17/100\n",
      "157/157 [==============================] - 17s 108ms/step - loss: 1.5104 - accuracy: 0.4632 - val_loss: 1.6261 - val_accuracy: 0.4304 - per_epoch_time: 16.8994\n",
      "Epoch 18/100\n",
      "157/157 [==============================] - 17s 107ms/step - loss: 1.4957 - accuracy: 0.4680 - val_loss: 1.8712 - val_accuracy: 0.3912 - per_epoch_time: 16.7368\n",
      "Epoch 19/100\n",
      "157/157 [==============================] - 17s 107ms/step - loss: 1.4753 - accuracy: 0.4743 - val_loss: 1.8095 - val_accuracy: 0.4024 - per_epoch_time: 16.7820\n",
      "Epoch 20/100\n",
      "157/157 [==============================] - 17s 108ms/step - loss: 1.4492 - accuracy: 0.4859 - val_loss: 1.5799 - val_accuracy: 0.4678 - per_epoch_time: 16.9234\n",
      "Epoch 21/100\n",
      "157/157 [==============================] - 17s 107ms/step - loss: 1.4345 - accuracy: 0.4940 - val_loss: 1.5504 - val_accuracy: 0.4669 - per_epoch_time: 16.8494\n",
      "Epoch 22/100\n",
      "157/157 [==============================] - 17s 107ms/step - loss: 1.4230 - accuracy: 0.4969 - val_loss: 1.5416 - val_accuracy: 0.4635 - per_epoch_time: 16.7374\n",
      "Epoch 23/100\n",
      "157/157 [==============================] - 17s 107ms/step - loss: 1.3891 - accuracy: 0.5086 - val_loss: 1.6931 - val_accuracy: 0.4302 - per_epoch_time: 16.7756\n",
      "Epoch 24/100\n",
      "157/157 [==============================] - 17s 108ms/step - loss: 1.3703 - accuracy: 0.5170 - val_loss: 1.7121 - val_accuracy: 0.4333 - per_epoch_time: 16.9131\n",
      "Epoch 25/100\n",
      "157/157 [==============================] - 17s 107ms/step - loss: 1.3564 - accuracy: 0.5207 - val_loss: 1.4301 - val_accuracy: 0.5055 - per_epoch_time: 16.7922\n",
      "Epoch 26/100\n",
      "157/157 [==============================] - 17s 107ms/step - loss: 1.3331 - accuracy: 0.5311 - val_loss: 1.6050 - val_accuracy: 0.4868 - per_epoch_time: 16.7358\n",
      "Epoch 27/100\n",
      "157/157 [==============================] - 17s 107ms/step - loss: 1.3155 - accuracy: 0.5378 - val_loss: 1.6864 - val_accuracy: 0.4684 - per_epoch_time: 16.8563\n",
      "Epoch 28/100\n",
      "157/157 [==============================] - 17s 109ms/step - loss: 1.2969 - accuracy: 0.5450 - val_loss: 1.4321 - val_accuracy: 0.5164 - per_epoch_time: 17.0587\n",
      "Epoch 29/100\n",
      "157/157 [==============================] - 17s 109ms/step - loss: 1.2822 - accuracy: 0.5484 - val_loss: 1.3598 - val_accuracy: 0.5316 - per_epoch_time: 17.1695\n",
      "Epoch 30/100\n",
      "157/157 [==============================] - 17s 110ms/step - loss: 1.2633 - accuracy: 0.5551 - val_loss: 1.5387 - val_accuracy: 0.4829 - per_epoch_time: 17.3066\n",
      "Epoch 31/100\n",
      "157/157 [==============================] - 17s 109ms/step - loss: 1.2461 - accuracy: 0.5643 - val_loss: 1.6632 - val_accuracy: 0.4902 - per_epoch_time: 17.0543\n",
      "Epoch 32/100\n",
      "157/157 [==============================] - 17s 107ms/step - loss: 1.2334 - accuracy: 0.5691 - val_loss: 1.3466 - val_accuracy: 0.5503 - per_epoch_time: 16.8079\n",
      "Epoch 33/100\n",
      "157/157 [==============================] - 17s 108ms/step - loss: 1.2092 - accuracy: 0.5784 - val_loss: 1.6571 - val_accuracy: 0.4730 - per_epoch_time: 16.8856\n",
      "Epoch 34/100\n",
      "157/157 [==============================] - 17s 110ms/step - loss: 1.1945 - accuracy: 0.5854 - val_loss: 1.3533 - val_accuracy: 0.5363 - per_epoch_time: 17.2357\n",
      "Epoch 35/100\n",
      "157/157 [==============================] - 17s 108ms/step - loss: 1.1726 - accuracy: 0.5937 - val_loss: 1.4784 - val_accuracy: 0.5053 - per_epoch_time: 16.9601\n",
      "Epoch 36/100\n",
      "157/157 [==============================] - 17s 108ms/step - loss: 1.1656 - accuracy: 0.5989 - val_loss: 1.7749 - val_accuracy: 0.4857 - per_epoch_time: 16.8911\n",
      "Epoch 37/100\n",
      "157/157 [==============================] - 17s 106ms/step - loss: 1.1480 - accuracy: 0.6035 - val_loss: 1.1929 - val_accuracy: 0.5916 - per_epoch_time: 16.6919\n",
      "Epoch 38/100\n",
      "157/157 [==============================] - 17s 106ms/step - loss: 1.1253 - accuracy: 0.6131 - val_loss: 1.5380 - val_accuracy: 0.5180 - per_epoch_time: 16.6976\n",
      "Epoch 39/100\n",
      "157/157 [==============================] - 17s 107ms/step - loss: 1.1107 - accuracy: 0.6179 - val_loss: 1.2619 - val_accuracy: 0.5769 - per_epoch_time: 16.8715\n",
      "Epoch 40/100\n",
      "157/157 [==============================] - 17s 106ms/step - loss: 1.1019 - accuracy: 0.6213 - val_loss: 1.1604 - val_accuracy: 0.6215 - per_epoch_time: 16.6988\n",
      "Epoch 41/100\n",
      "157/157 [==============================] - 17s 107ms/step - loss: 1.0831 - accuracy: 0.6285 - val_loss: 1.1102 - val_accuracy: 0.6160 - per_epoch_time: 16.8611\n",
      "Epoch 42/100\n",
      "157/157 [==============================] - 17s 106ms/step - loss: 1.0690 - accuracy: 0.6322 - val_loss: 1.3911 - val_accuracy: 0.5618 - per_epoch_time: 16.6289\n",
      "Epoch 43/100\n",
      "157/157 [==============================] - 17s 108ms/step - loss: 1.0593 - accuracy: 0.6368 - val_loss: 1.3759 - val_accuracy: 0.5677 - per_epoch_time: 16.9418\n",
      "Epoch 44/100\n",
      "157/157 [==============================] - 17s 107ms/step - loss: 1.0480 - accuracy: 0.6419 - val_loss: 1.1596 - val_accuracy: 0.6144 - per_epoch_time: 16.7622\n",
      "Epoch 45/100\n",
      "157/157 [==============================] - 17s 106ms/step - loss: 1.0246 - accuracy: 0.6506 - val_loss: 1.1471 - val_accuracy: 0.6252 - per_epoch_time: 16.7065\n",
      "Epoch 46/100\n",
      "157/157 [==============================] - 17s 106ms/step - loss: 1.0200 - accuracy: 0.6521 - val_loss: 1.1628 - val_accuracy: 0.6326 - per_epoch_time: 16.6116\n",
      "Epoch 47/100\n",
      "157/157 [==============================] - 17s 106ms/step - loss: 1.0005 - accuracy: 0.6598 - val_loss: 1.2445 - val_accuracy: 0.6097 - per_epoch_time: 16.6215\n",
      "Epoch 48/100\n"
     ]
    },
    {
     "name": "stdout",
     "output_type": "stream",
     "text": [
      "157/157 [==============================] - 17s 105ms/step - loss: 0.9869 - accuracy: 0.6624 - val_loss: 1.2141 - val_accuracy: 0.6094 - per_epoch_time: 16.5273\n",
      "Epoch 49/100\n",
      "157/157 [==============================] - 17s 106ms/step - loss: 0.9740 - accuracy: 0.6666 - val_loss: 1.1655 - val_accuracy: 0.6149 - per_epoch_time: 16.7191\n",
      "Epoch 50/100\n",
      "157/157 [==============================] - 17s 106ms/step - loss: 0.9706 - accuracy: 0.6690 - val_loss: 1.1819 - val_accuracy: 0.6045 - per_epoch_time: 16.6194\n",
      "Epoch 51/100\n",
      "157/157 [==============================] - 17s 107ms/step - loss: 0.9561 - accuracy: 0.6761 - val_loss: 1.0845 - val_accuracy: 0.6450 - per_epoch_time: 16.7798\n",
      "Epoch 52/100\n",
      "157/157 [==============================] - 16s 105ms/step - loss: 0.9405 - accuracy: 0.6794 - val_loss: 1.0293 - val_accuracy: 0.6553 - per_epoch_time: 16.4355\n",
      "Epoch 53/100\n",
      "157/157 [==============================] - 17s 106ms/step - loss: 0.9253 - accuracy: 0.6852 - val_loss: 1.1156 - val_accuracy: 0.6389 - per_epoch_time: 16.6598\n",
      "Epoch 54/100\n",
      "157/157 [==============================] - 17s 106ms/step - loss: 0.9089 - accuracy: 0.6940 - val_loss: 1.3336 - val_accuracy: 0.5771 - per_epoch_time: 16.6152\n",
      "Epoch 55/100\n",
      "157/157 [==============================] - 17s 106ms/step - loss: 0.9106 - accuracy: 0.6923 - val_loss: 1.1121 - val_accuracy: 0.6365 - per_epoch_time: 16.7013\n",
      "Epoch 56/100\n",
      "157/157 [==============================] - 17s 107ms/step - loss: 0.8982 - accuracy: 0.6980 - val_loss: 1.2933 - val_accuracy: 0.5970 - per_epoch_time: 16.8200\n",
      "Epoch 57/100\n",
      "157/157 [==============================] - 17s 107ms/step - loss: 0.8815 - accuracy: 0.7026 - val_loss: 1.1045 - val_accuracy: 0.6498 - per_epoch_time: 16.8659\n",
      "Epoch 58/100\n",
      "157/157 [==============================] - 17s 106ms/step - loss: 0.8804 - accuracy: 0.7033 - val_loss: 0.9703 - val_accuracy: 0.6800 - per_epoch_time: 16.6970\n",
      "Epoch 59/100\n",
      "157/157 [==============================] - 16s 105ms/step - loss: 0.8656 - accuracy: 0.7099 - val_loss: 1.0520 - val_accuracy: 0.6630 - per_epoch_time: 16.4331\n",
      "Epoch 60/100\n",
      "157/157 [==============================] - 16s 104ms/step - loss: 0.8571 - accuracy: 0.7115 - val_loss: 1.0445 - val_accuracy: 0.6517 - per_epoch_time: 16.3776\n",
      "Epoch 61/100\n",
      "157/157 [==============================] - 16s 105ms/step - loss: 0.8445 - accuracy: 0.7171 - val_loss: 1.0579 - val_accuracy: 0.6613 - per_epoch_time: 16.4315\n",
      "Epoch 62/100\n",
      "157/157 [==============================] - 16s 105ms/step - loss: 0.8370 - accuracy: 0.7181 - val_loss: 1.0489 - val_accuracy: 0.6643 - per_epoch_time: 16.4194\n",
      "Epoch 63/100\n",
      "157/157 [==============================] - 17s 105ms/step - loss: 0.8313 - accuracy: 0.7204 - val_loss: 0.8817 - val_accuracy: 0.7137 - per_epoch_time: 16.5066\n",
      "Epoch 64/100\n",
      "157/157 [==============================] - 16s 104ms/step - loss: 0.8208 - accuracy: 0.7236 - val_loss: 1.1359 - val_accuracy: 0.6538 - per_epoch_time: 16.3059\n",
      "Epoch 65/100\n",
      "157/157 [==============================] - 17s 105ms/step - loss: 0.8118 - accuracy: 0.7272 - val_loss: 1.1372 - val_accuracy: 0.6343 - per_epoch_time: 16.5376\n",
      "Epoch 66/100\n",
      "157/157 [==============================] - 17s 105ms/step - loss: 0.8059 - accuracy: 0.7325 - val_loss: 1.0029 - val_accuracy: 0.6765 - per_epoch_time: 16.5226\n",
      "Epoch 67/100\n",
      "157/157 [==============================] - 16s 104ms/step - loss: 0.7973 - accuracy: 0.7333 - val_loss: 0.9357 - val_accuracy: 0.6974 - per_epoch_time: 16.3746\n",
      "Epoch 68/100\n",
      "157/157 [==============================] - 17s 105ms/step - loss: 0.7872 - accuracy: 0.7368 - val_loss: 1.0129 - val_accuracy: 0.6725 - per_epoch_time: 16.5479\n",
      "Epoch 69/100\n",
      "157/157 [==============================] - 17s 106ms/step - loss: 0.7682 - accuracy: 0.7413 - val_loss: 0.9918 - val_accuracy: 0.6764 - per_epoch_time: 16.6279\n",
      "Epoch 70/100\n",
      "157/157 [==============================] - 17s 105ms/step - loss: 0.7709 - accuracy: 0.7421 - val_loss: 0.8369 - val_accuracy: 0.7228 - per_epoch_time: 16.5308\n",
      "Epoch 71/100\n",
      "157/157 [==============================] - 16s 105ms/step - loss: 0.7607 - accuracy: 0.7428 - val_loss: 1.0462 - val_accuracy: 0.6732 - per_epoch_time: 16.4616\n",
      "Epoch 72/100\n",
      "157/157 [==============================] - 16s 105ms/step - loss: 0.7599 - accuracy: 0.7455 - val_loss: 1.0100 - val_accuracy: 0.6853 - per_epoch_time: 16.4153\n",
      "Epoch 73/100\n",
      "157/157 [==============================] - 17s 105ms/step - loss: 0.7407 - accuracy: 0.7530 - val_loss: 0.8484 - val_accuracy: 0.7249 - per_epoch_time: 16.5175\n",
      "Epoch 74/100\n",
      "157/157 [==============================] - 16s 104ms/step - loss: 0.7406 - accuracy: 0.7539 - val_loss: 0.8710 - val_accuracy: 0.7125 - per_epoch_time: 16.3380\n",
      "Epoch 75/100\n",
      "157/157 [==============================] - 16s 105ms/step - loss: 0.7335 - accuracy: 0.7561 - val_loss: 0.9475 - val_accuracy: 0.6976 - per_epoch_time: 16.4445\n",
      "Epoch 76/100\n",
      "157/157 [==============================] - 16s 104ms/step - loss: 0.7261 - accuracy: 0.7586 - val_loss: 0.8861 - val_accuracy: 0.7198 - per_epoch_time: 16.3690\n",
      "Epoch 77/100\n",
      "157/157 [==============================] - 17s 106ms/step - loss: 0.7264 - accuracy: 0.7590 - val_loss: 0.9027 - val_accuracy: 0.7151 - per_epoch_time: 16.5626\n",
      "Epoch 78/100\n",
      "157/157 [==============================] - 16s 105ms/step - loss: 0.7199 - accuracy: 0.7614 - val_loss: 0.9069 - val_accuracy: 0.7143 - per_epoch_time: 16.4152\n",
      "Epoch 79/100\n",
      "157/157 [==============================] - 16s 105ms/step - loss: 0.6994 - accuracy: 0.7662 - val_loss: 0.8099 - val_accuracy: 0.7319 - per_epoch_time: 16.4493\n",
      "Epoch 80/100\n",
      "157/157 [==============================] - 16s 104ms/step - loss: 0.7039 - accuracy: 0.7642 - val_loss: 0.9883 - val_accuracy: 0.6971 - per_epoch_time: 16.3836\n",
      "Epoch 81/100\n",
      "157/157 [==============================] - 16s 104ms/step - loss: 0.6068 - accuracy: 0.7984 - val_loss: 0.7246 - val_accuracy: 0.7684 - per_epoch_time: 16.3770\n",
      "Epoch 82/100\n",
      "157/157 [==============================] - 16s 105ms/step - loss: 0.5706 - accuracy: 0.8102 - val_loss: 0.6705 - val_accuracy: 0.7855 - per_epoch_time: 16.4711\n",
      "Epoch 83/100\n",
      "157/157 [==============================] - 16s 105ms/step - loss: 0.5535 - accuracy: 0.8175 - val_loss: 0.6913 - val_accuracy: 0.7779 - per_epoch_time: 16.4338\n",
      "Epoch 84/100\n",
      "157/157 [==============================] - 16s 104ms/step - loss: 0.5463 - accuracy: 0.8209 - val_loss: 0.6682 - val_accuracy: 0.7883 - per_epoch_time: 16.3181\n",
      "Epoch 85/100\n",
      "157/157 [==============================] - 16s 104ms/step - loss: 0.5417 - accuracy: 0.8199 - val_loss: 0.6652 - val_accuracy: 0.7907 - per_epoch_time: 16.3619\n",
      "Epoch 86/100\n",
      "157/157 [==============================] - 16s 104ms/step - loss: 0.5350 - accuracy: 0.8220 - val_loss: 0.6523 - val_accuracy: 0.7920 - per_epoch_time: 16.3584\n",
      "Epoch 87/100\n",
      "157/157 [==============================] - 17s 106ms/step - loss: 0.5228 - accuracy: 0.8273 - val_loss: 0.6530 - val_accuracy: 0.7936 - per_epoch_time: 16.6722\n",
      "Epoch 88/100\n",
      "157/157 [==============================] - 17s 105ms/step - loss: 0.5150 - accuracy: 0.8314 - val_loss: 0.6778 - val_accuracy: 0.7859 - per_epoch_time: 16.5064\n",
      "Epoch 89/100\n",
      "157/157 [==============================] - 17s 108ms/step - loss: 0.5093 - accuracy: 0.8327 - val_loss: 0.6425 - val_accuracy: 0.7976 - per_epoch_time: 16.9556\n",
      "Epoch 90/100\n",
      "157/157 [==============================] - 17s 108ms/step - loss: 0.5100 - accuracy: 0.8321 - val_loss: 0.6752 - val_accuracy: 0.7885 - per_epoch_time: 16.9825\n",
      "Epoch 91/100\n",
      "157/157 [==============================] - 17s 107ms/step - loss: 0.5074 - accuracy: 0.8335 - val_loss: 0.6561 - val_accuracy: 0.7918 - per_epoch_time: 16.8160\n",
      "Epoch 92/100\n",
      "157/157 [==============================] - 17s 107ms/step - loss: 0.5003 - accuracy: 0.8338 - val_loss: 0.6528 - val_accuracy: 0.7928 - per_epoch_time: 16.7300\n",
      "Epoch 93/100\n",
      "157/157 [==============================] - 17s 107ms/step - loss: 0.4991 - accuracy: 0.8353 - val_loss: 0.6402 - val_accuracy: 0.7950 - per_epoch_time: 16.7965\n",
      "Epoch 94/100\n",
      "157/157 [==============================] - 17s 106ms/step - loss: 0.4923 - accuracy: 0.8377 - val_loss: 0.6581 - val_accuracy: 0.7937 - per_epoch_time: 16.6634\n",
      "Epoch 95/100\n"
     ]
    },
    {
     "name": "stdout",
     "output_type": "stream",
     "text": [
      "157/157 [==============================] - 17s 107ms/step - loss: 0.4888 - accuracy: 0.8375 - val_loss: 0.6446 - val_accuracy: 0.7978 - per_epoch_time: 16.7214\n",
      "Epoch 96/100\n",
      "157/157 [==============================] - 17s 106ms/step - loss: 0.4873 - accuracy: 0.8392 - val_loss: 0.6624 - val_accuracy: 0.7909 - per_epoch_time: 16.5859\n",
      "Epoch 97/100\n",
      "157/157 [==============================] - 17s 106ms/step - loss: 0.4773 - accuracy: 0.8403 - val_loss: 0.6616 - val_accuracy: 0.7918 - per_epoch_time: 16.6485\n",
      "Epoch 98/100\n",
      "157/157 [==============================] - 17s 107ms/step - loss: 0.4821 - accuracy: 0.8407 - val_loss: 0.6460 - val_accuracy: 0.7960 - per_epoch_time: 16.8286\n",
      "Epoch 99/100\n",
      "157/157 [==============================] - 17s 108ms/step - loss: 0.4777 - accuracy: 0.8423 - val_loss: 0.6440 - val_accuracy: 0.7961 - per_epoch_time: 16.9069\n",
      "Epoch 100/100\n",
      "157/157 [==============================] - 17s 107ms/step - loss: 0.4779 - accuracy: 0.8410 - val_loss: 0.6464 - val_accuracy: 0.7958 - per_epoch_time: 16.7615\n"
     ]
    }
   ],
   "source": [
    "a56_nal_model = ran_model\n",
    "\n",
    "a56_nal_model.compile(optimizer=our_optimizer, \n",
    "                      loss=tf.keras.losses.CategoricalCrossentropy(), \n",
    "                      metrics=['accuracy'])\n",
    "\n",
    "\n",
    "history = a56_nal_model.fit(train_ds,\n",
    "                            validation_data=val_ds,\n",
    "                            callbacks=callbacks,\n",
    "                            epochs=N_EPOCH, verbose=1)"
   ]
  },
  {
   "cell_type": "code",
   "execution_count": null,
   "metadata": {
    "id": "DMoo7v_Q5ti1"
   },
   "outputs": [],
   "source": []
  },
  {
   "cell_type": "markdown",
   "metadata": {
    "id": "vYSu67tk5uBy"
   },
   "source": [
    "### Attention-92\n",
    "\n",
    "Decrease initial learning rate and add gradient clipping in optimizer to avoid exploding gradient"
   ]
  },
  {
   "cell_type": "code",
   "execution_count": 43,
   "metadata": {
    "ExecuteTime": {
     "end_time": "2021-12-10T03:38:04.804054Z",
     "start_time": "2021-12-10T03:38:04.771267Z"
    }
   },
   "outputs": [],
   "source": [
    "N_EPOCH = 100\n",
    "LR = 1e-4"
   ]
  },
  {
   "cell_type": "code",
   "execution_count": 44,
   "metadata": {
    "ExecuteTime": {
     "end_time": "2021-12-10T03:38:09.876891Z",
     "start_time": "2021-12-10T03:38:05.328650Z"
    },
    "colab": {
     "base_uri": "https://localhost:8080/"
    },
    "id": "S3sr_o_E5erl",
    "outputId": "af8816e9-2f0f-412e-bf11-836353363496",
    "scrolled": true
   },
   "outputs": [
    {
     "name": "stdout",
     "output_type": "stream",
     "text": [
      "Model: \"attention92_7\"\n",
      "_________________________________________________________________\n",
      " Layer (type)                Output Shape              Param #   \n",
      "=================================================================\n",
      " sequential_2 (Sequential)   (None, 32, 32, 3)         0         \n",
      "                                                                 \n",
      " conv2d_2049 (Conv2D)        multiple                  864       \n",
      "                                                                 \n",
      " batch_normalization_1572 (B  multiple                 128       \n",
      " atchNormalization)                                              \n",
      "                                                                 \n",
      " re_lu_1572 (ReLU)           multiple                  0         \n",
      "                                                                 \n",
      " max_pooling2d_105 (MaxPooli  multiple                 0         \n",
      " ng2D)                                                           \n",
      "                                                                 \n",
      " residual_unit_486 (Residual  multiple                 19520     \n",
      " Unit)                                                           \n",
      "                                                                 \n",
      " attention_module_48 (Attent  multiple                 452352    \n",
      " ionModule)                                                      \n",
      "                                                                 \n",
      " attention_module_49 (Attent  multiple                 452352    \n",
      " ionModule)                                                      \n",
      "                                                                 \n",
      " residual_unit_511 (Residual  multiple                 96384     \n",
      " Unit)                                                           \n",
      "                                                                 \n",
      " attention_module_50 (Attent  multiple                 1369216   \n",
      " ionModule)                                                      \n",
      "                                                                 \n",
      " attention_module_51 (Attent  multiple                 1369216   \n",
      " ionModule)                                                      \n",
      "                                                                 \n",
      " residual_unit_530 (Residual  multiple                 381184    \n",
      " Unit)                                                           \n",
      "                                                                 \n",
      " attention_module_52 (Attent  multiple                 3798528   \n",
      " ionModule)                                                      \n",
      "                                                                 \n",
      " attention_module_53 (Attent  multiple                 3798528   \n",
      " ionModule)                                                      \n",
      "                                                                 \n",
      " residual_unit_543 (Residual  multiple                 1516032   \n",
      " Unit)                                                           \n",
      "                                                                 \n",
      " residual_unit_544 (Residual  multiple                 2171392   \n",
      " Unit)                                                           \n",
      "                                                                 \n",
      " residual_unit_545 (Residual  multiple                 2171392   \n",
      " Unit)                                                           \n",
      "                                                                 \n",
      " batch_normalization_1765 (B  multiple                 4096      \n",
      " atchNormalization)                                              \n",
      "                                                                 \n",
      " re_lu_1765 (ReLU)           multiple                  0         \n",
      "                                                                 \n",
      " average_pooling2d_9 (Averag  multiple                 0         \n",
      " ePooling2D)                                                     \n",
      "                                                                 \n",
      " flatten_9 (Flatten)         multiple                  0         \n",
      "                                                                 \n",
      " dropout_9 (Dropout)         multiple                  0         \n",
      "                                                                 \n",
      " dense_9 (Dense)             multiple                  10250     \n",
      "                                                                 \n",
      "=================================================================\n",
      "Total params: 17,611,434\n",
      "Trainable params: 17,548,778\n",
      "Non-trainable params: 62,656\n",
      "_________________________________________________________________\n"
     ]
    }
   ],
   "source": [
    "ran_model = Attention92(input_shape=INPUT_SHAPE, num_class=NUM_CLASS, learning_type='nal')\n",
    "inputs = tf.keras.Input(INPUT_SHAPE)\n",
    "ran_model(inputs)\n",
    "ran_model.summary()"
   ]
  },
  {
   "cell_type": "code",
   "execution_count": 45,
   "metadata": {
    "ExecuteTime": {
     "end_time": "2021-12-10T03:38:09.911329Z",
     "start_time": "2021-12-10T03:38:09.878791Z"
    }
   },
   "outputs": [],
   "source": [
    "## Callbacks\n",
    "time_callback = TimeHistory()\n",
    "\n",
    "# checkpointing & logger\n",
    "model_checkpointer = ModelCheckpoint(filepath=\"data/saved_weights/2-a92-nal-cifar10.h5\",\n",
    "                                     verbose=0,\n",
    "                                     save_weights_only=True,\n",
    "                                     save_best_only=False)\n",
    "\n",
    "csv_logger = CSVLogger('data/logs/2-a92-nal-cifar10.csv')\n",
    "\n",
    "callbacks = [model_checkpointer, time_callback, csv_logger]\n",
    "\n",
    "## Learning rate scheduler\n",
    "lr_schedule = tf.keras.optimizers.schedules.PiecewiseConstantDecay(\n",
    "    boundaries=[80*STEP_SIZE, 120*STEP_SIZE, 160*STEP_SIZE, 180*STEP_SIZE],\n",
    "    values=[LR, 0.1*LR, 1e-2*LR, 1e-3*LR, 0.5e-3*LR]\n",
    ")\n",
    "\n",
    "our_optimizer = tf.keras.optimizers.Adam(learning_rate=lr_schedule, clipvalue=0.1)"
   ]
  },
  {
   "cell_type": "code",
   "execution_count": null,
   "metadata": {},
   "outputs": [],
   "source": []
  },
  {
   "cell_type": "code",
   "execution_count": 46,
   "metadata": {
    "ExecuteTime": {
     "end_time": "2021-12-10T04:28:26.731593Z",
     "start_time": "2021-12-10T03:38:11.137330Z"
    },
    "colab": {
     "base_uri": "https://localhost:8080/"
    },
    "id": "fy88IU1bzNuq",
    "outputId": "5e587386-2ea2-4ef6-fd34-29d08efe1452",
    "scrolled": true
   },
   "outputs": [
    {
     "name": "stdout",
     "output_type": "stream",
     "text": [
      "Epoch 1/100\n",
      "157/157 [==============================] - 59s 211ms/step - loss: 2.4605 - accuracy: 0.1050 - val_loss: 2.3032 - val_accuracy: 0.1000 - per_epoch_time: 58.8410\n",
      "Epoch 2/100\n",
      "157/157 [==============================] - 30s 189ms/step - loss: 2.3990 - accuracy: 0.1122 - val_loss: 2.3080 - val_accuracy: 0.1000 - per_epoch_time: 29.6451\n",
      "Epoch 3/100\n",
      "157/157 [==============================] - 30s 190ms/step - loss: 2.3808 - accuracy: 0.1239 - val_loss: 2.3437 - val_accuracy: 0.1000 - per_epoch_time: 29.7942\n",
      "Epoch 4/100\n",
      "157/157 [==============================] - 30s 189ms/step - loss: 2.3604 - accuracy: 0.1306 - val_loss: 2.3259 - val_accuracy: 0.1377 - per_epoch_time: 29.6975\n",
      "Epoch 5/100\n",
      "157/157 [==============================] - 29s 188ms/step - loss: 2.3501 - accuracy: 0.1348 - val_loss: 2.3805 - val_accuracy: 0.1498 - per_epoch_time: 29.4914\n",
      "Epoch 6/100\n",
      "157/157 [==============================] - 29s 187ms/step - loss: 2.3432 - accuracy: 0.1377 - val_loss: 2.6593 - val_accuracy: 0.1505 - per_epoch_time: 29.3175\n",
      "Epoch 7/100\n",
      "157/157 [==============================] - 30s 188ms/step - loss: 2.3263 - accuracy: 0.1435 - val_loss: 2.4613 - val_accuracy: 0.1479 - per_epoch_time: 29.5413\n",
      "Epoch 8/100\n",
      "157/157 [==============================] - 30s 188ms/step - loss: 2.3262 - accuracy: 0.1400 - val_loss: 2.4752 - val_accuracy: 0.1424 - per_epoch_time: 29.5120\n",
      "Epoch 9/100\n",
      "157/157 [==============================] - 30s 189ms/step - loss: 2.3087 - accuracy: 0.1464 - val_loss: 2.4312 - val_accuracy: 0.1449 - per_epoch_time: 29.7211\n",
      "Epoch 10/100\n",
      "157/157 [==============================] - 30s 190ms/step - loss: 2.2957 - accuracy: 0.1504 - val_loss: 2.2820 - val_accuracy: 0.1451 - per_epoch_time: 29.8312\n",
      "Epoch 11/100\n",
      "157/157 [==============================] - 29s 187ms/step - loss: 2.2913 - accuracy: 0.1541 - val_loss: 2.3266 - val_accuracy: 0.1484 - per_epoch_time: 29.3799\n",
      "Epoch 12/100\n",
      "157/157 [==============================] - 29s 188ms/step - loss: 2.2858 - accuracy: 0.1554 - val_loss: 2.2724 - val_accuracy: 0.1525 - per_epoch_time: 29.4503\n",
      "Epoch 13/100\n",
      "157/157 [==============================] - 29s 187ms/step - loss: 2.2747 - accuracy: 0.1548 - val_loss: 2.3407 - val_accuracy: 0.1409 - per_epoch_time: 29.3082\n",
      "Epoch 14/100\n",
      "157/157 [==============================] - 30s 188ms/step - loss: 2.2606 - accuracy: 0.1618 - val_loss: 2.3322 - val_accuracy: 0.1561 - per_epoch_time: 29.5158\n",
      "Epoch 15/100\n",
      "157/157 [==============================] - 29s 188ms/step - loss: 2.2492 - accuracy: 0.1649 - val_loss: 2.3263 - val_accuracy: 0.1475 - per_epoch_time: 29.4425\n",
      "Epoch 16/100\n",
      "157/157 [==============================] - 29s 188ms/step - loss: 2.2201 - accuracy: 0.1759 - val_loss: 2.3291 - val_accuracy: 0.1520 - per_epoch_time: 29.4817\n",
      "Epoch 17/100\n",
      "157/157 [==============================] - 30s 189ms/step - loss: 2.1963 - accuracy: 0.1819 - val_loss: 2.3439 - val_accuracy: 0.1299 - per_epoch_time: 29.6728\n",
      "Epoch 18/100\n",
      "157/157 [==============================] - 30s 189ms/step - loss: 2.1790 - accuracy: 0.1880 - val_loss: 2.2325 - val_accuracy: 0.1681 - per_epoch_time: 29.7020\n",
      "Epoch 19/100\n",
      "157/157 [==============================] - 30s 188ms/step - loss: 2.1522 - accuracy: 0.1939 - val_loss: 2.2034 - val_accuracy: 0.1896 - per_epoch_time: 29.5672\n",
      "Epoch 20/100\n",
      "157/157 [==============================] - 29s 187ms/step - loss: 2.1177 - accuracy: 0.2063 - val_loss: 2.1969 - val_accuracy: 0.1853 - per_epoch_time: 29.4084\n",
      "Epoch 21/100\n",
      "157/157 [==============================] - 29s 187ms/step - loss: 2.1015 - accuracy: 0.2158 - val_loss: 2.1337 - val_accuracy: 0.2147 - per_epoch_time: 29.4051\n",
      "Epoch 22/100\n",
      "157/157 [==============================] - 29s 187ms/step - loss: 2.0757 - accuracy: 0.2227 - val_loss: 2.1369 - val_accuracy: 0.2120 - per_epoch_time: 29.2644\n",
      "Epoch 23/100\n",
      "157/157 [==============================] - 29s 187ms/step - loss: 2.0588 - accuracy: 0.2366 - val_loss: 2.1497 - val_accuracy: 0.2127 - per_epoch_time: 29.2817\n",
      "Epoch 24/100\n",
      "157/157 [==============================] - 29s 188ms/step - loss: 2.0379 - accuracy: 0.2456 - val_loss: 2.1366 - val_accuracy: 0.2189 - per_epoch_time: 29.4328\n",
      "Epoch 25/100\n",
      "157/157 [==============================] - 30s 188ms/step - loss: 2.0152 - accuracy: 0.2515 - val_loss: 2.2911 - val_accuracy: 0.2247 - per_epoch_time: 29.5412\n",
      "Epoch 26/100\n",
      "157/157 [==============================] - 30s 189ms/step - loss: 1.9994 - accuracy: 0.2627 - val_loss: 2.1157 - val_accuracy: 0.2255 - per_epoch_time: 29.6097\n",
      "Epoch 27/100\n",
      "157/157 [==============================] - 30s 189ms/step - loss: 1.9738 - accuracy: 0.2739 - val_loss: 2.1039 - val_accuracy: 0.2305 - per_epoch_time: 29.7301\n",
      "Epoch 28/100\n",
      "157/157 [==============================] - 29s 186ms/step - loss: 1.9572 - accuracy: 0.2796 - val_loss: 2.1463 - val_accuracy: 0.2555 - per_epoch_time: 29.2163\n",
      "Epoch 29/100\n",
      "157/157 [==============================] - 30s 190ms/step - loss: 1.9496 - accuracy: 0.2872 - val_loss: 2.1156 - val_accuracy: 0.2447 - per_epoch_time: 29.7838\n",
      "Epoch 30/100\n",
      "157/157 [==============================] - 30s 190ms/step - loss: 1.9362 - accuracy: 0.2934 - val_loss: 1.9634 - val_accuracy: 0.2807 - per_epoch_time: 29.8520\n",
      "Epoch 31/100\n",
      "157/157 [==============================] - 30s 191ms/step - loss: 1.9165 - accuracy: 0.2991 - val_loss: 1.9912 - val_accuracy: 0.2815 - per_epoch_time: 29.9212\n",
      "Epoch 32/100\n",
      "157/157 [==============================] - 30s 191ms/step - loss: 1.9023 - accuracy: 0.3086 - val_loss: 1.9791 - val_accuracy: 0.2892 - per_epoch_time: 30.0087\n",
      "Epoch 33/100\n",
      "157/157 [==============================] - 30s 188ms/step - loss: 1.8804 - accuracy: 0.3156 - val_loss: 1.8746 - val_accuracy: 0.3193 - per_epoch_time: 29.5140\n",
      "Epoch 34/100\n",
      "157/157 [==============================] - 30s 190ms/step - loss: 1.8754 - accuracy: 0.3220 - val_loss: 1.8497 - val_accuracy: 0.3272 - per_epoch_time: 29.8380\n",
      "Epoch 35/100\n",
      "157/157 [==============================] - 30s 189ms/step - loss: 1.8589 - accuracy: 0.3271 - val_loss: 1.8217 - val_accuracy: 0.3409 - per_epoch_time: 29.6037\n",
      "Epoch 36/100\n",
      "157/157 [==============================] - 30s 190ms/step - loss: 1.8546 - accuracy: 0.3272 - val_loss: 1.8667 - val_accuracy: 0.3330 - per_epoch_time: 29.7710\n",
      "Epoch 37/100\n",
      "157/157 [==============================] - 30s 189ms/step - loss: 1.8314 - accuracy: 0.3344 - val_loss: 1.8156 - val_accuracy: 0.3445 - per_epoch_time: 29.6339\n",
      "Epoch 38/100\n",
      "157/157 [==============================] - 29s 187ms/step - loss: 1.8229 - accuracy: 0.3386 - val_loss: 1.9694 - val_accuracy: 0.3581 - per_epoch_time: 29.2923\n",
      "Epoch 39/100\n",
      "157/157 [==============================] - 29s 188ms/step - loss: 1.8097 - accuracy: 0.3446 - val_loss: 1.8361 - val_accuracy: 0.3468 - per_epoch_time: 29.4588\n",
      "Epoch 40/100\n",
      "157/157 [==============================] - 30s 188ms/step - loss: 1.7933 - accuracy: 0.3517 - val_loss: 1.8239 - val_accuracy: 0.3448 - per_epoch_time: 29.5057\n",
      "Epoch 41/100\n",
      "157/157 [==============================] - 30s 188ms/step - loss: 1.7849 - accuracy: 0.3531 - val_loss: 1.7894 - val_accuracy: 0.3587 - per_epoch_time: 29.5846\n",
      "Epoch 42/100\n",
      "157/157 [==============================] - 30s 189ms/step - loss: 1.7622 - accuracy: 0.3594 - val_loss: 1.7486 - val_accuracy: 0.3613 - per_epoch_time: 29.7148\n",
      "Epoch 43/100\n",
      "157/157 [==============================] - 29s 187ms/step - loss: 1.7521 - accuracy: 0.3641 - val_loss: 1.8695 - val_accuracy: 0.3484 - per_epoch_time: 29.4024\n",
      "Epoch 44/100\n",
      "157/157 [==============================] - 29s 187ms/step - loss: 1.7420 - accuracy: 0.3681 - val_loss: 1.7877 - val_accuracy: 0.3630 - per_epoch_time: 29.3487\n",
      "Epoch 45/100\n",
      "157/157 [==============================] - 29s 188ms/step - loss: 1.7303 - accuracy: 0.3764 - val_loss: 1.7276 - val_accuracy: 0.3912 - per_epoch_time: 29.4743\n",
      "Epoch 46/100\n",
      "157/157 [==============================] - 29s 188ms/step - loss: 1.7116 - accuracy: 0.3787 - val_loss: 1.6741 - val_accuracy: 0.4028 - per_epoch_time: 29.4390\n",
      "Epoch 47/100\n",
      "157/157 [==============================] - 29s 186ms/step - loss: 1.7024 - accuracy: 0.3864 - val_loss: 1.6835 - val_accuracy: 0.3978 - per_epoch_time: 29.2531\n",
      "Epoch 48/100\n"
     ]
    },
    {
     "name": "stdout",
     "output_type": "stream",
     "text": [
      "157/157 [==============================] - 29s 187ms/step - loss: 1.6943 - accuracy: 0.3893 - val_loss: 1.6312 - val_accuracy: 0.4099 - per_epoch_time: 29.3529\n",
      "Epoch 49/100\n",
      "157/157 [==============================] - 29s 187ms/step - loss: 1.6803 - accuracy: 0.3953 - val_loss: 1.6881 - val_accuracy: 0.3858 - per_epoch_time: 29.4238\n",
      "Epoch 50/100\n",
      "157/157 [==============================] - 29s 188ms/step - loss: 1.6610 - accuracy: 0.3999 - val_loss: 1.6751 - val_accuracy: 0.4002 - per_epoch_time: 29.4321\n",
      "Epoch 51/100\n",
      "157/157 [==============================] - 30s 191ms/step - loss: 1.6529 - accuracy: 0.4080 - val_loss: 1.6188 - val_accuracy: 0.4213 - per_epoch_time: 29.9042\n",
      "Epoch 52/100\n",
      "157/157 [==============================] - 30s 190ms/step - loss: 1.6369 - accuracy: 0.4108 - val_loss: 1.6203 - val_accuracy: 0.4180 - per_epoch_time: 29.8630\n",
      "Epoch 53/100\n",
      "157/157 [==============================] - 29s 187ms/step - loss: 1.6361 - accuracy: 0.4117 - val_loss: 1.5993 - val_accuracy: 0.4382 - per_epoch_time: 29.4004\n",
      "Epoch 54/100\n",
      "157/157 [==============================] - 30s 190ms/step - loss: 1.6205 - accuracy: 0.4163 - val_loss: 1.5711 - val_accuracy: 0.4360 - per_epoch_time: 29.8389\n",
      "Epoch 55/100\n",
      "157/157 [==============================] - 29s 188ms/step - loss: 1.6089 - accuracy: 0.4215 - val_loss: 1.6155 - val_accuracy: 0.4179 - per_epoch_time: 29.4875\n",
      "Epoch 56/100\n",
      "157/157 [==============================] - 30s 190ms/step - loss: 1.5971 - accuracy: 0.4239 - val_loss: 1.6437 - val_accuracy: 0.4259 - per_epoch_time: 29.8173\n",
      "Epoch 57/100\n",
      "157/157 [==============================] - 30s 190ms/step - loss: 1.5997 - accuracy: 0.4275 - val_loss: 1.5844 - val_accuracy: 0.4281 - per_epoch_time: 29.7575\n",
      "Epoch 58/100\n",
      "157/157 [==============================] - 30s 188ms/step - loss: 1.5828 - accuracy: 0.4322 - val_loss: 1.6209 - val_accuracy: 0.4258 - per_epoch_time: 29.5061\n",
      "Epoch 59/100\n",
      "157/157 [==============================] - 29s 186ms/step - loss: 1.5714 - accuracy: 0.4347 - val_loss: 1.6322 - val_accuracy: 0.4215 - per_epoch_time: 29.2305\n",
      "Epoch 60/100\n",
      "157/157 [==============================] - 30s 188ms/step - loss: 1.5660 - accuracy: 0.4382 - val_loss: 1.6728 - val_accuracy: 0.4364 - per_epoch_time: 29.5215\n",
      "Epoch 61/100\n",
      "157/157 [==============================] - 29s 187ms/step - loss: 1.5588 - accuracy: 0.4381 - val_loss: 1.5695 - val_accuracy: 0.4339 - per_epoch_time: 29.3706\n",
      "Epoch 62/100\n",
      "157/157 [==============================] - 29s 186ms/step - loss: 1.5491 - accuracy: 0.4417 - val_loss: 1.6855 - val_accuracy: 0.4095 - per_epoch_time: 29.2448\n",
      "Epoch 63/100\n",
      "157/157 [==============================] - 29s 187ms/step - loss: 1.5334 - accuracy: 0.4502 - val_loss: 1.5935 - val_accuracy: 0.4283 - per_epoch_time: 29.3814\n",
      "Epoch 64/100\n",
      "157/157 [==============================] - 29s 187ms/step - loss: 1.5339 - accuracy: 0.4479 - val_loss: 1.4893 - val_accuracy: 0.4673 - per_epoch_time: 29.3198\n",
      "Epoch 65/100\n",
      "157/157 [==============================] - 29s 187ms/step - loss: 1.5239 - accuracy: 0.4552 - val_loss: 1.4883 - val_accuracy: 0.4644 - per_epoch_time: 29.3152\n",
      "Epoch 66/100\n",
      "157/157 [==============================] - 29s 187ms/step - loss: 1.5118 - accuracy: 0.4563 - val_loss: 1.5222 - val_accuracy: 0.4623 - per_epoch_time: 29.2625\n",
      "Epoch 67/100\n",
      "157/157 [==============================] - 30s 188ms/step - loss: 1.4965 - accuracy: 0.4644 - val_loss: 1.5115 - val_accuracy: 0.4665 - per_epoch_time: 29.5647\n",
      "Epoch 68/100\n",
      "157/157 [==============================] - 30s 188ms/step - loss: 1.4941 - accuracy: 0.4646 - val_loss: 1.5028 - val_accuracy: 0.4659 - per_epoch_time: 29.5467\n",
      "Epoch 69/100\n",
      "157/157 [==============================] - 29s 187ms/step - loss: 1.4865 - accuracy: 0.4651 - val_loss: 1.4648 - val_accuracy: 0.4738 - per_epoch_time: 29.4011\n",
      "Epoch 70/100\n",
      "157/157 [==============================] - 30s 188ms/step - loss: 1.4768 - accuracy: 0.4737 - val_loss: 1.9874 - val_accuracy: 0.4478 - per_epoch_time: 29.5434\n",
      "Epoch 71/100\n",
      "157/157 [==============================] - 30s 191ms/step - loss: 1.4692 - accuracy: 0.4730 - val_loss: 1.4928 - val_accuracy: 0.4828 - per_epoch_time: 29.9533\n",
      "Epoch 72/100\n",
      "157/157 [==============================] - 30s 190ms/step - loss: 1.4538 - accuracy: 0.4778 - val_loss: 1.6030 - val_accuracy: 0.4436 - per_epoch_time: 29.8476\n",
      "Epoch 73/100\n",
      "157/157 [==============================] - 30s 190ms/step - loss: 1.4449 - accuracy: 0.4810 - val_loss: 1.6027 - val_accuracy: 0.4494 - per_epoch_time: 29.7415\n",
      "Epoch 74/100\n",
      "157/157 [==============================] - 30s 189ms/step - loss: 1.4347 - accuracy: 0.4862 - val_loss: 1.5201 - val_accuracy: 0.4696 - per_epoch_time: 29.6808\n",
      "Epoch 75/100\n",
      "157/157 [==============================] - 30s 189ms/step - loss: 1.4297 - accuracy: 0.4855 - val_loss: 1.4601 - val_accuracy: 0.4774 - per_epoch_time: 29.6023\n",
      "Epoch 76/100\n",
      "157/157 [==============================] - 29s 187ms/step - loss: 1.4170 - accuracy: 0.4924 - val_loss: 1.5731 - val_accuracy: 0.4670 - per_epoch_time: 29.3776\n",
      "Epoch 77/100\n",
      "157/157 [==============================] - 29s 188ms/step - loss: 1.4130 - accuracy: 0.4971 - val_loss: 1.4252 - val_accuracy: 0.4866 - per_epoch_time: 29.4365\n",
      "Epoch 78/100\n",
      "157/157 [==============================] - 29s 187ms/step - loss: 1.4032 - accuracy: 0.4980 - val_loss: 1.4458 - val_accuracy: 0.4875 - per_epoch_time: 29.2937\n",
      "Epoch 79/100\n",
      "157/157 [==============================] - 29s 187ms/step - loss: 1.3924 - accuracy: 0.5026 - val_loss: 1.4725 - val_accuracy: 0.5027 - per_epoch_time: 29.4178\n",
      "Epoch 80/100\n",
      "157/157 [==============================] - 29s 187ms/step - loss: 1.3864 - accuracy: 0.5016 - val_loss: 1.4551 - val_accuracy: 0.4858 - per_epoch_time: 29.3428\n",
      "Epoch 81/100\n",
      "157/157 [==============================] - 30s 188ms/step - loss: 1.3504 - accuracy: 0.5195 - val_loss: 1.4039 - val_accuracy: 0.5088 - per_epoch_time: 29.5100\n",
      "Epoch 82/100\n",
      "157/157 [==============================] - 29s 186ms/step - loss: 1.3361 - accuracy: 0.5208 - val_loss: 1.4392 - val_accuracy: 0.5108 - per_epoch_time: 29.2080\n",
      "Epoch 83/100\n",
      "157/157 [==============================] - 29s 187ms/step - loss: 1.3340 - accuracy: 0.5231 - val_loss: 1.4311 - val_accuracy: 0.5075 - per_epoch_time: 29.4066\n",
      "Epoch 84/100\n",
      "157/157 [==============================] - 30s 189ms/step - loss: 1.3222 - accuracy: 0.5284 - val_loss: 1.4169 - val_accuracy: 0.5155 - per_epoch_time: 29.5749\n",
      "Epoch 85/100\n",
      "157/157 [==============================] - 29s 187ms/step - loss: 1.3166 - accuracy: 0.5311 - val_loss: 1.4508 - val_accuracy: 0.5151 - per_epoch_time: 29.3657\n",
      "Epoch 86/100\n",
      "157/157 [==============================] - 29s 186ms/step - loss: 1.3127 - accuracy: 0.5316 - val_loss: 1.4733 - val_accuracy: 0.5166 - per_epoch_time: 29.2383\n",
      "Epoch 87/100\n",
      "157/157 [==============================] - 30s 189ms/step - loss: 1.3128 - accuracy: 0.5354 - val_loss: 1.4607 - val_accuracy: 0.5199 - per_epoch_time: 29.7123\n",
      "Epoch 88/100\n",
      "157/157 [==============================] - 30s 189ms/step - loss: 1.3140 - accuracy: 0.5321 - val_loss: 1.4747 - val_accuracy: 0.5212 - per_epoch_time: 29.6803\n",
      "Epoch 89/100\n",
      "157/157 [==============================] - 30s 189ms/step - loss: 1.3081 - accuracy: 0.5304 - val_loss: 1.4941 - val_accuracy: 0.5221 - per_epoch_time: 29.7245\n",
      "Epoch 90/100\n",
      "157/157 [==============================] - 30s 190ms/step - loss: 1.3099 - accuracy: 0.5323 - val_loss: 1.4691 - val_accuracy: 0.5213 - per_epoch_time: 29.7532\n",
      "Epoch 91/100\n",
      "157/157 [==============================] - 30s 189ms/step - loss: 1.3007 - accuracy: 0.5365 - val_loss: 1.3998 - val_accuracy: 0.5308 - per_epoch_time: 29.6133\n",
      "Epoch 92/100\n",
      "157/157 [==============================] - 30s 190ms/step - loss: 1.2975 - accuracy: 0.5376 - val_loss: 1.4613 - val_accuracy: 0.5248 - per_epoch_time: 29.8592\n",
      "Epoch 93/100\n",
      "157/157 [==============================] - 30s 188ms/step - loss: 1.2930 - accuracy: 0.5396 - val_loss: 1.5043 - val_accuracy: 0.5234 - per_epoch_time: 29.5881\n",
      "Epoch 94/100\n",
      "157/157 [==============================] - 30s 189ms/step - loss: 1.2952 - accuracy: 0.5394 - val_loss: 1.3915 - val_accuracy: 0.5198 - per_epoch_time: 29.6740\n",
      "Epoch 95/100\n"
     ]
    },
    {
     "name": "stdout",
     "output_type": "stream",
     "text": [
      "157/157 [==============================] - 29s 188ms/step - loss: 1.2906 - accuracy: 0.5360 - val_loss: 1.4025 - val_accuracy: 0.5241 - per_epoch_time: 29.4451\n",
      "Epoch 96/100\n",
      "157/157 [==============================] - 30s 189ms/step - loss: 1.2910 - accuracy: 0.5390 - val_loss: 1.4640 - val_accuracy: 0.5269 - per_epoch_time: 29.7068\n",
      "Epoch 97/100\n",
      "157/157 [==============================] - 30s 190ms/step - loss: 1.2871 - accuracy: 0.5375 - val_loss: 1.4564 - val_accuracy: 0.5225 - per_epoch_time: 29.8167\n",
      "Epoch 98/100\n",
      "157/157 [==============================] - 30s 190ms/step - loss: 1.2843 - accuracy: 0.5416 - val_loss: 1.4070 - val_accuracy: 0.5235 - per_epoch_time: 29.7661\n",
      "Epoch 99/100\n",
      "157/157 [==============================] - 30s 191ms/step - loss: 1.2861 - accuracy: 0.5397 - val_loss: 1.4047 - val_accuracy: 0.5279 - per_epoch_time: 29.9327\n",
      "Epoch 100/100\n",
      "157/157 [==============================] - 30s 190ms/step - loss: 1.2823 - accuracy: 0.5391 - val_loss: 1.4251 - val_accuracy: 0.5260 - per_epoch_time: 29.7794\n"
     ]
    }
   ],
   "source": [
    "a92_nal_model = ran_model\n",
    "\n",
    "a92_nal_model.compile(optimizer=our_optimizer, \n",
    "                      loss=tf.keras.losses.CategoricalCrossentropy(), \n",
    "                      metrics=['accuracy'])\n",
    "\n",
    "\n",
    "history = a92_nal_model.fit(train_ds,\n",
    "                            validation_data=val_ds,\n",
    "                            callbacks=callbacks,\n",
    "                            epochs=N_EPOCH, verbose=1)"
   ]
  },
  {
   "cell_type": "code",
   "execution_count": null,
   "metadata": {
    "id": "bsebrvlmdvw8"
   },
   "outputs": [],
   "source": []
  },
  {
   "cell_type": "markdown",
   "metadata": {},
   "source": [
    "### Attention-128"
   ]
  },
  {
   "cell_type": "code",
   "execution_count": null,
   "metadata": {},
   "outputs": [],
   "source": [
    "N_EPOCH = 100\n",
    "LR = 1e-3"
   ]
  },
  {
   "cell_type": "code",
   "execution_count": null,
   "metadata": {},
   "outputs": [],
   "source": [
    "ran_model = Attention128(input_shape=INPUT_SHAPE, num_class=NUM_CLASS, learning_type='nal')\n",
    "inputs = tf.keras.Input(INPUT_SHAPE)\n",
    "ran_model(inputs)\n",
    "ran_model.summary()"
   ]
  },
  {
   "cell_type": "code",
   "execution_count": null,
   "metadata": {},
   "outputs": [],
   "source": [
    "## Callbacks\n",
    "time_callback = TimeHistory()\n",
    "\n",
    "# checkpointing & logger\n",
    "model_checkpointer = ModelCheckpoint(filepath=\"data/saved_weights/3-a128-nal-cifar10.h5\",\n",
    "                                     verbose=0,\n",
    "                                     save_weights_only=True,\n",
    "                                     save_best_only=False)\n",
    "\n",
    "csv_logger = CSVLogger('data/logs/3-a128-nal-cifar10.csv')\n",
    "\n",
    "callbacks = [model_checkpointer, time_callback, csv_logger]\n",
    "\n",
    "## Learning rate scheduler\n",
    "lr_schedule = tf.keras.optimizers.schedules.PiecewiseConstantDecay(\n",
    "    boundaries=[80*STEP_SIZE, 120*STEP_SIZE, 160*STEP_SIZE, 180*STEP_SIZE],\n",
    "    values=[LR, 0.1*LR, 1e-2*LR, 1e-3*LR, 0.5e-3*LR]\n",
    ")\n",
    "\n",
    "our_optimizer = tf.keras.optimizers.Adam(learning_rate=lr_schedule)"
   ]
  },
  {
   "cell_type": "code",
   "execution_count": null,
   "metadata": {},
   "outputs": [],
   "source": [
    "a128_nal_model = ran_model\n",
    "\n",
    "a128_nal_model.compile(optimizer=our_optimizer, \n",
    "                      loss=tf.keras.losses.CategoricalCrossentropy(), \n",
    "                      metrics=['accuracy'])\n",
    "\n",
    "\n",
    "history = a128_nal_model.fit(train_ds,\n",
    "                            validation_data=val_ds,\n",
    "                            callbacks=callbacks,\n",
    "                            epochs=N_EPOCH, verbose=1)"
   ]
  },
  {
   "cell_type": "code",
   "execution_count": null,
   "metadata": {},
   "outputs": [],
   "source": []
  },
  {
   "cell_type": "markdown",
   "metadata": {},
   "source": [
    "### Attention-164"
   ]
  },
  {
   "cell_type": "code",
   "execution_count": null,
   "metadata": {},
   "outputs": [],
   "source": [
    "N_EPOCH = 100\n",
    "LR = 1e-3"
   ]
  },
  {
   "cell_type": "code",
   "execution_count": null,
   "metadata": {},
   "outputs": [],
   "source": [
    "ran_model = Attention164(input_shape=INPUT_SHAPE, num_class=NUM_CLASS, learning_type='nal')\n",
    "inputs = tf.keras.Input(INPUT_SHAPE)\n",
    "ran_model(inputs)\n",
    "ran_model.summary()"
   ]
  },
  {
   "cell_type": "code",
   "execution_count": null,
   "metadata": {},
   "outputs": [],
   "source": [
    "## Callbacks\n",
    "time_callback = TimeHistory()\n",
    "\n",
    "# checkpointing & logger\n",
    "model_checkpointer = ModelCheckpoint(filepath=\"data/saved_weights/4-a192-nal-cifar10.h5\",\n",
    "                                     verbose=0,\n",
    "                                     save_weights_only=True,\n",
    "                                     save_best_only=False)\n",
    "\n",
    "csv_logger = CSVLogger('data/logs/4-a192-nal-cifar10.csv')\n",
    "\n",
    "callbacks = [model_checkpointer, time_callback, csv_logger]\n",
    "\n",
    "## Learning rate scheduler\n",
    "lr_schedule = tf.keras.optimizers.schedules.PiecewiseConstantDecay(\n",
    "    boundaries=[80*STEP_SIZE, 120*STEP_SIZE, 160*STEP_SIZE, 180*STEP_SIZE],\n",
    "    values=[LR, 0.1*LR, 1e-2*LR, 1e-3*LR, 0.5e-3*LR]\n",
    ")\n",
    "\n",
    "our_optimizer = tf.keras.optimizers.Adam(learning_rate=lr_schedule)"
   ]
  },
  {
   "cell_type": "code",
   "execution_count": null,
   "metadata": {},
   "outputs": [],
   "source": [
    "a192_nal_model = ran_model\n",
    "\n",
    "a192_nal_model.compile(optimizer=our_optimizer, \n",
    "                      loss=tf.keras.losses.CategoricalCrossentropy(), \n",
    "                      metrics=['accuracy'])\n",
    "\n",
    "\n",
    "history = a192_nal_model.fit(train_ds,\n",
    "                            validation_data=val_ds,\n",
    "                            callbacks=callbacks,\n",
    "                            epochs=N_EPOCH, verbose=1)"
   ]
  },
  {
   "cell_type": "code",
   "execution_count": null,
   "metadata": {},
   "outputs": [],
   "source": []
  },
  {
   "cell_type": "markdown",
   "metadata": {
    "id": "_qf9aDeJ6JQH"
   },
   "source": [
    "## Attention-Residual Learning\n",
    "\n",
    "In this part, the experiment is done using Residual Attention Learning mechanism"
   ]
  },
  {
   "cell_type": "markdown",
   "metadata": {
    "id": "XsOf7W_m6UZ5"
   },
   "source": [
    "### Attention-56"
   ]
  },
  {
   "cell_type": "code",
   "execution_count": 13,
   "metadata": {
    "ExecuteTime": {
     "end_time": "2021-12-10T02:01:53.949587Z",
     "start_time": "2021-12-10T02:01:53.917420Z"
    }
   },
   "outputs": [],
   "source": [
    "N_EPOCH = 100\n",
    "LR = 1e-3"
   ]
  },
  {
   "cell_type": "code",
   "execution_count": 14,
   "metadata": {
    "ExecuteTime": {
     "end_time": "2021-12-10T02:01:56.080417Z",
     "start_time": "2021-12-10T02:01:54.064138Z"
    },
    "colab": {
     "base_uri": "https://localhost:8080/"
    },
    "id": "rc-qETCwmA6u",
    "outputId": "a5fdcd80-067d-4b18-b192-b12163b16a6f",
    "scrolled": true
   },
   "outputs": [
    {
     "name": "stdout",
     "output_type": "stream",
     "text": [
      "Model: \"attention56_1\"\n",
      "_________________________________________________________________\n",
      " Layer (type)                Output Shape              Param #   \n",
      "=================================================================\n",
      " sequential_1 (Sequential)   (None, 32, 32, 3)         0         \n",
      "                                                                 \n",
      " conv2d_139 (Conv2D)         multiple                  864       \n",
      "                                                                 \n",
      " batch_normalization_107 (Ba  multiple                 128       \n",
      " tchNormalization)                                               \n",
      "                                                                 \n",
      " re_lu_107 (ReLU)            multiple                  0         \n",
      "                                                                 \n",
      " max_pooling2d_7 (MaxPooling  multiple                 0         \n",
      " 2D)                                                             \n",
      "                                                                 \n",
      " residual_unit_33 (ResidualU  multiple                 19520     \n",
      " nit)                                                            \n",
      "                                                                 \n",
      " attention_module_3 (Attenti  multiple                 452352    \n",
      " onModule)                                                       \n",
      "                                                                 \n",
      " residual_unit_46 (ResidualU  multiple                 96384     \n",
      " nit)                                                            \n",
      "                                                                 \n",
      " attention_module_4 (Attenti  multiple                 1369216   \n",
      " onModule)                                                       \n",
      "                                                                 \n",
      " residual_unit_56 (ResidualU  multiple                 381184    \n",
      " nit)                                                            \n",
      "                                                                 \n",
      " attention_module_5 (Attenti  multiple                 3798528   \n",
      " onModule)                                                       \n",
      "                                                                 \n",
      " residual_unit_63 (ResidualU  multiple                 1516032   \n",
      " nit)                                                            \n",
      "                                                                 \n",
      " residual_unit_64 (ResidualU  multiple                 2171392   \n",
      " nit)                                                            \n",
      "                                                                 \n",
      " residual_unit_65 (ResidualU  multiple                 2171392   \n",
      " nit)                                                            \n",
      "                                                                 \n",
      " batch_normalization_213 (Ba  multiple                 4096      \n",
      " tchNormalization)                                               \n",
      "                                                                 \n",
      " re_lu_213 (ReLU)            multiple                  0         \n",
      "                                                                 \n",
      " average_pooling2d_1 (Averag  multiple                 0         \n",
      " ePooling2D)                                                     \n",
      "                                                                 \n",
      " flatten_1 (Flatten)         multiple                  0         \n",
      "                                                                 \n",
      " dropout_1 (Dropout)         multiple                  0         \n",
      "                                                                 \n",
      " dense_1 (Dense)             multiple                  10250     \n",
      "                                                                 \n",
      "=================================================================\n",
      "Total params: 11,991,338\n",
      "Trainable params: 11,953,002\n",
      "Non-trainable params: 38,336\n",
      "_________________________________________________________________\n"
     ]
    }
   ],
   "source": [
    "ran_model = Attention56(input_shape=INPUT_SHAPE, num_class=NUM_CLASS)\n",
    "inputs = tf.keras.Input(INPUT_SHAPE)\n",
    "ran_model(inputs)\n",
    "ran_model.summary()"
   ]
  },
  {
   "cell_type": "code",
   "execution_count": 15,
   "metadata": {
    "ExecuteTime": {
     "end_time": "2021-12-10T02:01:58.661804Z",
     "start_time": "2021-12-10T02:01:58.629788Z"
    }
   },
   "outputs": [],
   "source": [
    "## Callbacks\n",
    "time_callback = TimeHistory()\n",
    "\n",
    "# checkpointing & logger\n",
    "model_checkpointer = ModelCheckpoint(filepath=\"data/saved_weights/1-a56-cifar10.h5\",\n",
    "                                     verbose=0,\n",
    "                                     save_weights_only=True,\n",
    "                                     save_best_only=False)\n",
    "\n",
    "csv_logger = CSVLogger('data/logs/1-a56-cifar10.csv')\n",
    "\n",
    "callbacks = [model_checkpointer, time_callback, csv_logger]\n",
    "\n",
    "## Learning rate scheduler\n",
    "lr_schedule = tf.keras.optimizers.schedules.PiecewiseConstantDecay(\n",
    "    boundaries=[80*STEP_SIZE, 120*STEP_SIZE, 160*STEP_SIZE, 180*STEP_SIZE],\n",
    "    values=[LR, 0.1*LR, 1e-2*LR, 1e-3*LR, 0.5e-3*LR]\n",
    ")\n",
    "\n",
    "our_optimizer = tf.keras.optimizers.Adam(learning_rate=lr_schedule)"
   ]
  },
  {
   "cell_type": "code",
   "execution_count": 16,
   "metadata": {
    "ExecuteTime": {
     "end_time": "2021-12-10T02:30:41.643714Z",
     "start_time": "2021-12-10T02:02:00.726946Z"
    },
    "colab": {
     "base_uri": "https://localhost:8080/",
     "height": 450
    },
    "id": "V6nA1olw8c5v",
    "outputId": "e6789b48-72a8-4a54-8ae5-ca0b3da94a6a",
    "scrolled": true
   },
   "outputs": [
    {
     "name": "stdout",
     "output_type": "stream",
     "text": [
      "Epoch 1/100\n",
      "157/157 [==============================] - 31s 119ms/step - loss: 2.4594 - accuracy: 0.1515 - val_loss: 2.6538 - val_accuracy: 0.1000 - per_epoch_time: 30.6641\n",
      "Epoch 2/100\n",
      "157/157 [==============================] - 17s 107ms/step - loss: 2.0942 - accuracy: 0.2455 - val_loss: 2.5194 - val_accuracy: 0.1320 - per_epoch_time: 16.7516\n",
      "Epoch 3/100\n",
      "157/157 [==============================] - 17s 108ms/step - loss: 1.9156 - accuracy: 0.3052 - val_loss: 1.9570 - val_accuracy: 0.2832 - per_epoch_time: 16.8760\n",
      "Epoch 4/100\n",
      "157/157 [==============================] - 17s 106ms/step - loss: 1.8190 - accuracy: 0.3408 - val_loss: 1.7478 - val_accuracy: 0.3669 - per_epoch_time: 16.6506\n",
      "Epoch 5/100\n",
      "157/157 [==============================] - 17s 107ms/step - loss: 1.7587 - accuracy: 0.3671 - val_loss: 1.9506 - val_accuracy: 0.3231 - per_epoch_time: 16.8248\n",
      "Epoch 6/100\n",
      "157/157 [==============================] - 17s 109ms/step - loss: 1.7030 - accuracy: 0.3837 - val_loss: 1.8401 - val_accuracy: 0.3738 - per_epoch_time: 17.1566\n",
      "Epoch 7/100\n",
      "157/157 [==============================] - 17s 106ms/step - loss: 1.6542 - accuracy: 0.4051 - val_loss: 1.6536 - val_accuracy: 0.4151 - per_epoch_time: 16.6284\n",
      "Epoch 8/100\n",
      "157/157 [==============================] - 17s 107ms/step - loss: 1.6189 - accuracy: 0.4175 - val_loss: 1.8887 - val_accuracy: 0.4055 - per_epoch_time: 16.8561\n",
      "Epoch 9/100\n",
      "157/157 [==============================] - 17s 108ms/step - loss: 1.5803 - accuracy: 0.4344 - val_loss: 1.8086 - val_accuracy: 0.4158 - per_epoch_time: 16.9452\n",
      "Epoch 10/100\n",
      "157/157 [==============================] - 17s 107ms/step - loss: 1.5539 - accuracy: 0.4428 - val_loss: 1.8246 - val_accuracy: 0.4107 - per_epoch_time: 16.8036\n",
      "Epoch 11/100\n",
      "157/157 [==============================] - 17s 108ms/step - loss: 1.5250 - accuracy: 0.4554 - val_loss: 2.1658 - val_accuracy: 0.3447 - per_epoch_time: 16.9216\n",
      "Epoch 12/100\n",
      "157/157 [==============================] - 17s 108ms/step - loss: 1.4961 - accuracy: 0.4628 - val_loss: 2.5757 - val_accuracy: 0.3271 - per_epoch_time: 17.0230\n",
      "Epoch 13/100\n",
      "157/157 [==============================] - 17s 108ms/step - loss: 1.4695 - accuracy: 0.4786 - val_loss: 1.6881 - val_accuracy: 0.4468 - per_epoch_time: 16.8872\n",
      "Epoch 14/100\n",
      "157/157 [==============================] - 17s 108ms/step - loss: 1.4428 - accuracy: 0.4852 - val_loss: 1.6025 - val_accuracy: 0.4449 - per_epoch_time: 16.9304\n",
      "Epoch 15/100\n",
      "157/157 [==============================] - 17s 109ms/step - loss: 1.4206 - accuracy: 0.4965 - val_loss: 1.9751 - val_accuracy: 0.4118 - per_epoch_time: 17.0633\n",
      "Epoch 16/100\n",
      "157/157 [==============================] - 17s 107ms/step - loss: 1.4025 - accuracy: 0.5037 - val_loss: 1.6836 - val_accuracy: 0.4513 - per_epoch_time: 16.7694\n",
      "Epoch 17/100\n",
      "157/157 [==============================] - 17s 107ms/step - loss: 1.3775 - accuracy: 0.5146 - val_loss: 1.4443 - val_accuracy: 0.4972 - per_epoch_time: 16.8331\n",
      "Epoch 18/100\n",
      "157/157 [==============================] - 17s 106ms/step - loss: 1.3524 - accuracy: 0.5246 - val_loss: 1.4508 - val_accuracy: 0.4957 - per_epoch_time: 16.6723\n",
      "Epoch 19/100\n",
      "157/157 [==============================] - 17s 107ms/step - loss: 1.3381 - accuracy: 0.5301 - val_loss: 1.4904 - val_accuracy: 0.4911 - per_epoch_time: 16.7810\n",
      "Epoch 20/100\n",
      "157/157 [==============================] - 17s 106ms/step - loss: 1.3225 - accuracy: 0.5362 - val_loss: 1.4763 - val_accuracy: 0.4980 - per_epoch_time: 16.5682\n",
      "Epoch 21/100\n",
      "157/157 [==============================] - 17s 107ms/step - loss: 1.2894 - accuracy: 0.5471 - val_loss: 1.6105 - val_accuracy: 0.4658 - per_epoch_time: 16.7583\n",
      "Epoch 22/100\n",
      "157/157 [==============================] - 17s 108ms/step - loss: 1.2701 - accuracy: 0.5541 - val_loss: 1.6903 - val_accuracy: 0.4587 - per_epoch_time: 16.9739\n",
      "Epoch 23/100\n",
      "157/157 [==============================] - 17s 106ms/step - loss: 1.2494 - accuracy: 0.5649 - val_loss: 1.3279 - val_accuracy: 0.5373 - per_epoch_time: 16.6676\n",
      "Epoch 24/100\n",
      "157/157 [==============================] - 17s 107ms/step - loss: 1.2270 - accuracy: 0.5730 - val_loss: 1.4851 - val_accuracy: 0.5173 - per_epoch_time: 16.7297\n",
      "Epoch 25/100\n",
      "157/157 [==============================] - 17s 107ms/step - loss: 1.2178 - accuracy: 0.5738 - val_loss: 1.4983 - val_accuracy: 0.4880 - per_epoch_time: 16.8339\n",
      "Epoch 26/100\n",
      "157/157 [==============================] - 17s 108ms/step - loss: 1.1995 - accuracy: 0.5844 - val_loss: 1.4042 - val_accuracy: 0.5056 - per_epoch_time: 16.9098\n",
      "Epoch 27/100\n",
      "157/157 [==============================] - 17s 107ms/step - loss: 1.1782 - accuracy: 0.5925 - val_loss: 1.2995 - val_accuracy: 0.5577 - per_epoch_time: 16.7691\n",
      "Epoch 28/100\n",
      "157/157 [==============================] - 17s 106ms/step - loss: 1.1608 - accuracy: 0.5967 - val_loss: 1.4796 - val_accuracy: 0.5263 - per_epoch_time: 16.6166\n",
      "Epoch 29/100\n",
      "157/157 [==============================] - 17s 106ms/step - loss: 1.1390 - accuracy: 0.6072 - val_loss: 1.3440 - val_accuracy: 0.5437 - per_epoch_time: 16.6204\n",
      "Epoch 30/100\n",
      "157/157 [==============================] - 17s 105ms/step - loss: 1.1224 - accuracy: 0.6117 - val_loss: 1.2605 - val_accuracy: 0.5774 - per_epoch_time: 16.5521\n",
      "Epoch 31/100\n",
      "157/157 [==============================] - 17s 106ms/step - loss: 1.1016 - accuracy: 0.6227 - val_loss: 2.0958 - val_accuracy: 0.4394 - per_epoch_time: 16.5902\n",
      "Epoch 32/100\n",
      "157/157 [==============================] - 17s 105ms/step - loss: 1.0863 - accuracy: 0.6253 - val_loss: 1.2507 - val_accuracy: 0.5683 - per_epoch_time: 16.5191\n",
      "Epoch 33/100\n",
      "157/157 [==============================] - 17s 106ms/step - loss: 1.0771 - accuracy: 0.6302 - val_loss: 1.2695 - val_accuracy: 0.5962 - per_epoch_time: 16.5613\n",
      "Epoch 34/100\n",
      "157/157 [==============================] - 17s 106ms/step - loss: 1.0682 - accuracy: 0.6343 - val_loss: 1.3268 - val_accuracy: 0.5846 - per_epoch_time: 16.6850\n",
      "Epoch 35/100\n",
      "157/157 [==============================] - 17s 106ms/step - loss: 1.0488 - accuracy: 0.6424 - val_loss: 1.2885 - val_accuracy: 0.5817 - per_epoch_time: 16.6088\n",
      "Epoch 36/100\n",
      "157/157 [==============================] - 17s 106ms/step - loss: 1.0312 - accuracy: 0.6490 - val_loss: 1.4395 - val_accuracy: 0.5489 - per_epoch_time: 16.5947\n",
      "Epoch 37/100\n",
      "157/157 [==============================] - 17s 106ms/step - loss: 1.0237 - accuracy: 0.6526 - val_loss: 1.5323 - val_accuracy: 0.5415 - per_epoch_time: 16.5612\n",
      "Epoch 38/100\n",
      "157/157 [==============================] - 17s 107ms/step - loss: 1.0030 - accuracy: 0.6601 - val_loss: 1.1299 - val_accuracy: 0.6309 - per_epoch_time: 16.7544\n",
      "Epoch 39/100\n",
      "157/157 [==============================] - 17s 108ms/step - loss: 0.9903 - accuracy: 0.6631 - val_loss: 1.2667 - val_accuracy: 0.5997 - per_epoch_time: 16.9941\n",
      "Epoch 40/100\n",
      "157/157 [==============================] - 17s 108ms/step - loss: 0.9753 - accuracy: 0.6698 - val_loss: 1.1720 - val_accuracy: 0.6000 - per_epoch_time: 16.9108\n",
      "Epoch 41/100\n",
      "157/157 [==============================] - 17s 109ms/step - loss: 0.9656 - accuracy: 0.6708 - val_loss: 1.1067 - val_accuracy: 0.6460 - per_epoch_time: 17.0552\n",
      "Epoch 42/100\n",
      "157/157 [==============================] - 17s 108ms/step - loss: 0.9566 - accuracy: 0.6769 - val_loss: 1.0252 - val_accuracy: 0.6585 - per_epoch_time: 17.0124\n",
      "Epoch 43/100\n",
      "157/157 [==============================] - 17s 108ms/step - loss: 0.9461 - accuracy: 0.6802 - val_loss: 1.2533 - val_accuracy: 0.6104 - per_epoch_time: 17.0261\n",
      "Epoch 44/100\n",
      "157/157 [==============================] - 17s 108ms/step - loss: 0.9297 - accuracy: 0.6863 - val_loss: 1.1536 - val_accuracy: 0.6241 - per_epoch_time: 16.9387\n",
      "Epoch 45/100\n",
      "157/157 [==============================] - 17s 108ms/step - loss: 0.9254 - accuracy: 0.6878 - val_loss: 0.9819 - val_accuracy: 0.6785 - per_epoch_time: 17.0094\n",
      "Epoch 46/100\n",
      "157/157 [==============================] - 17s 107ms/step - loss: 0.9153 - accuracy: 0.6912 - val_loss: 0.9729 - val_accuracy: 0.6823 - per_epoch_time: 16.8590\n",
      "Epoch 47/100\n",
      "157/157 [==============================] - 17s 107ms/step - loss: 0.8983 - accuracy: 0.6967 - val_loss: 1.0529 - val_accuracy: 0.6587 - per_epoch_time: 16.7568\n",
      "Epoch 48/100\n"
     ]
    },
    {
     "name": "stdout",
     "output_type": "stream",
     "text": [
      "157/157 [==============================] - 17s 108ms/step - loss: 0.8919 - accuracy: 0.7015 - val_loss: 1.0953 - val_accuracy: 0.6427 - per_epoch_time: 16.9039\n",
      "Epoch 49/100\n",
      "157/157 [==============================] - 17s 108ms/step - loss: 0.8715 - accuracy: 0.7072 - val_loss: 1.1462 - val_accuracy: 0.6373 - per_epoch_time: 16.8665\n",
      "Epoch 50/100\n",
      "157/157 [==============================] - 17s 107ms/step - loss: 0.8672 - accuracy: 0.7092 - val_loss: 1.0143 - val_accuracy: 0.6731 - per_epoch_time: 16.7974\n",
      "Epoch 51/100\n",
      "157/157 [==============================] - 17s 108ms/step - loss: 0.8449 - accuracy: 0.7183 - val_loss: 0.9151 - val_accuracy: 0.6965 - per_epoch_time: 16.9208\n",
      "Epoch 52/100\n",
      "157/157 [==============================] - 17s 107ms/step - loss: 0.8498 - accuracy: 0.7167 - val_loss: 0.9643 - val_accuracy: 0.6894 - per_epoch_time: 16.7950\n",
      "Epoch 53/100\n",
      "157/157 [==============================] - 17s 108ms/step - loss: 0.8303 - accuracy: 0.7221 - val_loss: 1.0478 - val_accuracy: 0.6729 - per_epoch_time: 16.9595\n",
      "Epoch 54/100\n",
      "157/157 [==============================] - 17s 108ms/step - loss: 0.8289 - accuracy: 0.7243 - val_loss: 1.0670 - val_accuracy: 0.6618 - per_epoch_time: 17.0098\n",
      "Epoch 55/100\n",
      "157/157 [==============================] - 17s 109ms/step - loss: 0.8220 - accuracy: 0.7251 - val_loss: 0.9938 - val_accuracy: 0.6736 - per_epoch_time: 17.1575\n",
      "Epoch 56/100\n",
      "157/157 [==============================] - 17s 109ms/step - loss: 0.8079 - accuracy: 0.7312 - val_loss: 1.0832 - val_accuracy: 0.6666 - per_epoch_time: 17.0996\n",
      "Epoch 57/100\n",
      "157/157 [==============================] - 17s 109ms/step - loss: 0.7973 - accuracy: 0.7362 - val_loss: 1.0086 - val_accuracy: 0.6724 - per_epoch_time: 17.1338\n",
      "Epoch 58/100\n",
      "157/157 [==============================] - 17s 107ms/step - loss: 0.7980 - accuracy: 0.7356 - val_loss: 1.0264 - val_accuracy: 0.6745 - per_epoch_time: 16.7787\n",
      "Epoch 59/100\n",
      "157/157 [==============================] - 17s 106ms/step - loss: 0.7902 - accuracy: 0.7350 - val_loss: 0.9002 - val_accuracy: 0.7097 - per_epoch_time: 16.6461\n",
      "Epoch 60/100\n",
      "157/157 [==============================] - 17s 106ms/step - loss: 0.7880 - accuracy: 0.7404 - val_loss: 0.9104 - val_accuracy: 0.7087 - per_epoch_time: 16.5777\n",
      "Epoch 61/100\n",
      "157/157 [==============================] - 17s 107ms/step - loss: 0.7679 - accuracy: 0.7454 - val_loss: 0.9610 - val_accuracy: 0.7005 - per_epoch_time: 16.7413\n",
      "Epoch 62/100\n",
      "157/157 [==============================] - 17s 107ms/step - loss: 0.7805 - accuracy: 0.7397 - val_loss: 1.0301 - val_accuracy: 0.6769 - per_epoch_time: 16.7962\n",
      "Epoch 63/100\n",
      "157/157 [==============================] - 17s 106ms/step - loss: 0.7655 - accuracy: 0.7484 - val_loss: 0.9906 - val_accuracy: 0.6876 - per_epoch_time: 16.6395\n",
      "Epoch 64/100\n",
      "157/157 [==============================] - 17s 106ms/step - loss: 0.7513 - accuracy: 0.7505 - val_loss: 1.0243 - val_accuracy: 0.6840 - per_epoch_time: 16.5546\n",
      "Epoch 65/100\n",
      "157/157 [==============================] - 17s 106ms/step - loss: 0.7489 - accuracy: 0.7505 - val_loss: 0.8495 - val_accuracy: 0.7289 - per_epoch_time: 16.6478\n",
      "Epoch 66/100\n",
      "157/157 [==============================] - 17s 106ms/step - loss: 0.7413 - accuracy: 0.7530 - val_loss: 0.8521 - val_accuracy: 0.7264 - per_epoch_time: 16.6156\n",
      "Epoch 67/100\n",
      "157/157 [==============================] - 17s 107ms/step - loss: 0.7302 - accuracy: 0.7570 - val_loss: 0.8264 - val_accuracy: 0.7311 - per_epoch_time: 16.7568\n",
      "Epoch 68/100\n",
      "157/157 [==============================] - 17s 105ms/step - loss: 0.7256 - accuracy: 0.7593 - val_loss: 0.8733 - val_accuracy: 0.7194 - per_epoch_time: 16.5483\n",
      "Epoch 69/100\n",
      "157/157 [==============================] - 17s 106ms/step - loss: 0.7267 - accuracy: 0.7588 - val_loss: 0.8355 - val_accuracy: 0.7323 - per_epoch_time: 16.6441\n",
      "Epoch 70/100\n",
      "157/157 [==============================] - 17s 106ms/step - loss: 0.7110 - accuracy: 0.7640 - val_loss: 0.9375 - val_accuracy: 0.7043 - per_epoch_time: 16.6252\n",
      "Epoch 71/100\n",
      "157/157 [==============================] - 17s 106ms/step - loss: 0.7095 - accuracy: 0.7656 - val_loss: 0.7904 - val_accuracy: 0.7453 - per_epoch_time: 16.6194\n",
      "Epoch 72/100\n",
      "157/157 [==============================] - 17s 106ms/step - loss: 0.7084 - accuracy: 0.7670 - val_loss: 0.9202 - val_accuracy: 0.7094 - per_epoch_time: 16.5962\n",
      "Epoch 73/100\n",
      "157/157 [==============================] - 17s 105ms/step - loss: 0.6982 - accuracy: 0.7679 - val_loss: 0.8822 - val_accuracy: 0.7141 - per_epoch_time: 16.5353\n",
      "Epoch 74/100\n",
      "157/157 [==============================] - 17s 106ms/step - loss: 0.6892 - accuracy: 0.7717 - val_loss: 0.8608 - val_accuracy: 0.7325 - per_epoch_time: 16.7053\n",
      "Epoch 75/100\n",
      "157/157 [==============================] - 17s 106ms/step - loss: 0.6868 - accuracy: 0.7734 - val_loss: 0.8368 - val_accuracy: 0.7352 - per_epoch_time: 16.6751\n",
      "Epoch 76/100\n",
      "157/157 [==============================] - 16s 105ms/step - loss: 0.6768 - accuracy: 0.7773 - val_loss: 0.8414 - val_accuracy: 0.7296 - per_epoch_time: 16.4741\n",
      "Epoch 77/100\n",
      "157/157 [==============================] - 17s 106ms/step - loss: 0.6797 - accuracy: 0.7735 - val_loss: 0.9036 - val_accuracy: 0.7169 - per_epoch_time: 16.6566\n",
      "Epoch 78/100\n",
      "157/157 [==============================] - 17s 106ms/step - loss: 0.6733 - accuracy: 0.7785 - val_loss: 0.8346 - val_accuracy: 0.7325 - per_epoch_time: 16.5896\n",
      "Epoch 79/100\n",
      "157/157 [==============================] - 17s 106ms/step - loss: 0.6651 - accuracy: 0.7803 - val_loss: 0.8233 - val_accuracy: 0.7469 - per_epoch_time: 16.6205\n",
      "Epoch 80/100\n",
      "157/157 [==============================] - 17s 106ms/step - loss: 0.6659 - accuracy: 0.7799 - val_loss: 0.8213 - val_accuracy: 0.7343 - per_epoch_time: 16.6192\n",
      "Epoch 81/100\n",
      "157/157 [==============================] - 17s 107ms/step - loss: 0.5784 - accuracy: 0.8067 - val_loss: 0.6722 - val_accuracy: 0.7816 - per_epoch_time: 16.8012\n",
      "Epoch 82/100\n",
      "157/157 [==============================] - 17s 106ms/step - loss: 0.5366 - accuracy: 0.8227 - val_loss: 0.6594 - val_accuracy: 0.7848 - per_epoch_time: 16.5664\n",
      "Epoch 83/100\n",
      "157/157 [==============================] - 17s 106ms/step - loss: 0.5292 - accuracy: 0.8268 - val_loss: 0.6333 - val_accuracy: 0.7955 - per_epoch_time: 16.6397\n",
      "Epoch 84/100\n",
      "157/157 [==============================] - 17s 106ms/step - loss: 0.5182 - accuracy: 0.8291 - val_loss: 0.6260 - val_accuracy: 0.7934 - per_epoch_time: 16.6517\n",
      "Epoch 85/100\n",
      "157/157 [==============================] - 17s 106ms/step - loss: 0.5053 - accuracy: 0.8339 - val_loss: 0.6372 - val_accuracy: 0.7958 - per_epoch_time: 16.6373\n",
      "Epoch 86/100\n",
      "157/157 [==============================] - 17s 107ms/step - loss: 0.5012 - accuracy: 0.8354 - val_loss: 0.6461 - val_accuracy: 0.7893 - per_epoch_time: 16.7819\n",
      "Epoch 87/100\n",
      "157/157 [==============================] - 17s 106ms/step - loss: 0.4973 - accuracy: 0.8365 - val_loss: 0.6255 - val_accuracy: 0.7984 - per_epoch_time: 16.5794\n",
      "Epoch 88/100\n",
      "157/157 [==============================] - 17s 106ms/step - loss: 0.4912 - accuracy: 0.8384 - val_loss: 0.6265 - val_accuracy: 0.7992 - per_epoch_time: 16.6089\n",
      "Epoch 89/100\n",
      "157/157 [==============================] - 17s 107ms/step - loss: 0.4889 - accuracy: 0.8381 - val_loss: 0.6186 - val_accuracy: 0.7996 - per_epoch_time: 16.7381\n",
      "Epoch 90/100\n",
      "157/157 [==============================] - 17s 107ms/step - loss: 0.4882 - accuracy: 0.8388 - val_loss: 0.6188 - val_accuracy: 0.8003 - per_epoch_time: 16.8160\n",
      "Epoch 91/100\n",
      "157/157 [==============================] - 17s 107ms/step - loss: 0.4807 - accuracy: 0.8406 - val_loss: 0.6199 - val_accuracy: 0.7991 - per_epoch_time: 16.8641\n",
      "Epoch 92/100\n",
      "157/157 [==============================] - 17s 107ms/step - loss: 0.4751 - accuracy: 0.8433 - val_loss: 0.6156 - val_accuracy: 0.7988 - per_epoch_time: 16.8365\n",
      "Epoch 93/100\n",
      "157/157 [==============================] - 17s 108ms/step - loss: 0.4689 - accuracy: 0.8438 - val_loss: 0.6073 - val_accuracy: 0.8022 - per_epoch_time: 16.9722\n",
      "Epoch 94/100\n",
      "157/157 [==============================] - 17s 107ms/step - loss: 0.4643 - accuracy: 0.8489 - val_loss: 0.6041 - val_accuracy: 0.8016 - per_epoch_time: 16.7536\n",
      "Epoch 95/100\n"
     ]
    },
    {
     "name": "stdout",
     "output_type": "stream",
     "text": [
      "157/157 [==============================] - 17s 106ms/step - loss: 0.4640 - accuracy: 0.8471 - val_loss: 0.6167 - val_accuracy: 0.8008 - per_epoch_time: 16.6375\n",
      "Epoch 96/100\n",
      "157/157 [==============================] - 17s 107ms/step - loss: 0.4567 - accuracy: 0.8495 - val_loss: 0.6008 - val_accuracy: 0.8041 - per_epoch_time: 16.8036\n",
      "Epoch 97/100\n",
      "157/157 [==============================] - 17s 106ms/step - loss: 0.4642 - accuracy: 0.8476 - val_loss: 0.5895 - val_accuracy: 0.8070 - per_epoch_time: 16.7101\n",
      "Epoch 98/100\n",
      "157/157 [==============================] - 17s 107ms/step - loss: 0.4549 - accuracy: 0.8497 - val_loss: 0.6205 - val_accuracy: 0.8021 - per_epoch_time: 16.7496\n",
      "Epoch 99/100\n",
      "157/157 [==============================] - 17s 106ms/step - loss: 0.4526 - accuracy: 0.8509 - val_loss: 0.6155 - val_accuracy: 0.8012 - per_epoch_time: 16.6782\n",
      "Epoch 100/100\n",
      "157/157 [==============================] - 17s 106ms/step - loss: 0.4524 - accuracy: 0.8512 - val_loss: 0.6105 - val_accuracy: 0.8047 - per_epoch_time: 16.6979\n"
     ]
    }
   ],
   "source": [
    "a56_model = ran_model\n",
    "\n",
    "a56_model.compile(optimizer=our_optimizer, \n",
    "                  loss=tf.keras.losses.CategoricalCrossentropy(), \n",
    "                  metrics=['accuracy'])\n",
    "\n",
    "\n",
    "history = a56_model.fit(train_ds,\n",
    "                        validation_data=val_ds,\n",
    "                        callbacks=callbacks,\n",
    "                        epochs=N_EPOCH, verbose=1)"
   ]
  },
  {
   "cell_type": "code",
   "execution_count": null,
   "metadata": {
    "id": "x6SBfflndtCy"
   },
   "outputs": [],
   "source": []
  },
  {
   "cell_type": "markdown",
   "metadata": {
    "id": "d9D6JZpv6fyS"
   },
   "source": [
    "### Attention-92\n",
    "\n",
    "Decrease initial learning rate and add gradient clipping in optimizer to avoid exploding gradient"
   ]
  },
  {
   "cell_type": "code",
   "execution_count": 47,
   "metadata": {
    "ExecuteTime": {
     "end_time": "2021-12-10T04:28:26.767548Z",
     "start_time": "2021-12-10T04:28:26.734012Z"
    }
   },
   "outputs": [],
   "source": [
    "N_EPOCH = 100\n",
    "LR = 1e-4"
   ]
  },
  {
   "cell_type": "code",
   "execution_count": 48,
   "metadata": {
    "ExecuteTime": {
     "end_time": "2021-12-10T04:28:29.807234Z",
     "start_time": "2021-12-10T04:28:26.769191Z"
    },
    "colab": {
     "base_uri": "https://localhost:8080/"
    },
    "id": "Lzh4OviZ6fIv",
    "outputId": "85281540-2c8f-4e4f-8108-3463a3a3a22a",
    "scrolled": true
   },
   "outputs": [
    {
     "name": "stdout",
     "output_type": "stream",
     "text": [
      "Model: \"attention92_8\"\n",
      "_________________________________________________________________\n",
      " Layer (type)                Output Shape              Param #   \n",
      "=================================================================\n",
      " sequential_2 (Sequential)   (None, 32, 32, 3)         0         \n",
      "                                                                 \n",
      " conv2d_2302 (Conv2D)        multiple                  864       \n",
      "                                                                 \n",
      " batch_normalization_1766 (B  multiple                 128       \n",
      " atchNormalization)                                              \n",
      "                                                                 \n",
      " re_lu_1766 (ReLU)           multiple                  0         \n",
      "                                                                 \n",
      " max_pooling2d_118 (MaxPooli  multiple                 0         \n",
      " ng2D)                                                           \n",
      "                                                                 \n",
      " residual_unit_546 (Residual  multiple                 19520     \n",
      " Unit)                                                           \n",
      "                                                                 \n",
      " attention_module_54 (Attent  multiple                 452352    \n",
      " ionModule)                                                      \n",
      "                                                                 \n",
      " attention_module_55 (Attent  multiple                 452352    \n",
      " ionModule)                                                      \n",
      "                                                                 \n",
      " residual_unit_571 (Residual  multiple                 96384     \n",
      " Unit)                                                           \n",
      "                                                                 \n",
      " attention_module_56 (Attent  multiple                 1369216   \n",
      " ionModule)                                                      \n",
      "                                                                 \n",
      " attention_module_57 (Attent  multiple                 1369216   \n",
      " ionModule)                                                      \n",
      "                                                                 \n",
      " residual_unit_590 (Residual  multiple                 381184    \n",
      " Unit)                                                           \n",
      "                                                                 \n",
      " attention_module_58 (Attent  multiple                 3798528   \n",
      " ionModule)                                                      \n",
      "                                                                 \n",
      " attention_module_59 (Attent  multiple                 3798528   \n",
      " ionModule)                                                      \n",
      "                                                                 \n",
      " residual_unit_603 (Residual  multiple                 1516032   \n",
      " Unit)                                                           \n",
      "                                                                 \n",
      " residual_unit_604 (Residual  multiple                 2171392   \n",
      " Unit)                                                           \n",
      "                                                                 \n",
      " residual_unit_605 (Residual  multiple                 2171392   \n",
      " Unit)                                                           \n",
      "                                                                 \n",
      " batch_normalization_1959 (B  multiple                 4096      \n",
      " atchNormalization)                                              \n",
      "                                                                 \n",
      " re_lu_1959 (ReLU)           multiple                  0         \n",
      "                                                                 \n",
      " average_pooling2d_10 (Avera  multiple                 0         \n",
      " gePooling2D)                                                    \n",
      "                                                                 \n",
      " flatten_10 (Flatten)        multiple                  0         \n",
      "                                                                 \n",
      " dropout_10 (Dropout)        multiple                  0         \n",
      "                                                                 \n",
      " dense_10 (Dense)            multiple                  10250     \n",
      "                                                                 \n",
      "=================================================================\n",
      "Total params: 17,611,434\n",
      "Trainable params: 17,548,778\n",
      "Non-trainable params: 62,656\n",
      "_________________________________________________________________\n"
     ]
    }
   ],
   "source": [
    "ran_model = Attention92(input_shape=INPUT_SHAPE, num_class=NUM_CLASS)\n",
    "inputs = tf.keras.Input(INPUT_SHAPE)\n",
    "ran_model(inputs)\n",
    "ran_model.summary()"
   ]
  },
  {
   "cell_type": "code",
   "execution_count": 49,
   "metadata": {
    "ExecuteTime": {
     "end_time": "2021-12-10T04:28:29.841920Z",
     "start_time": "2021-12-10T04:28:29.809342Z"
    }
   },
   "outputs": [],
   "source": [
    "## Callbacks\n",
    "time_callback = TimeHistory()\n",
    "\n",
    "# checkpointing & logger\n",
    "model_checkpointer = ModelCheckpoint(filepath=\"data/saved_weights/2-a92-cifar10.h5\",\n",
    "                                     verbose=0,\n",
    "                                     save_weights_only=True,\n",
    "                                     save_best_only=False)\n",
    "\n",
    "csv_logger = CSVLogger('data/logs/2-a92-cifar10.csv')\n",
    "\n",
    "callbacks = [model_checkpointer, time_callback, csv_logger]\n",
    "\n",
    "## Learning rate scheduler\n",
    "lr_schedule = tf.keras.optimizers.schedules.PiecewiseConstantDecay(\n",
    "    boundaries=[80*STEP_SIZE, 120*STEP_SIZE, 160*STEP_SIZE, 180*STEP_SIZE],\n",
    "    values=[LR, 0.1*LR, 1e-2*LR, 1e-3*LR, 0.5e-3*LR]\n",
    ")\n",
    "\n",
    "our_optimizer = tf.keras.optimizers.Adam(learning_rate=lr_schedule, clipvalue=0.1)"
   ]
  },
  {
   "cell_type": "code",
   "execution_count": 50,
   "metadata": {
    "ExecuteTime": {
     "end_time": "2021-12-10T05:19:03.803490Z",
     "start_time": "2021-12-10T04:28:29.843580Z"
    },
    "colab": {
     "base_uri": "https://localhost:8080/"
    },
    "id": "_V3KxO3T5zdv",
    "outputId": "ec239aba-9b7f-4227-905c-d02e6b1c6f64",
    "scrolled": true
   },
   "outputs": [
    {
     "name": "stdout",
     "output_type": "stream",
     "text": [
      "Epoch 1/100\n",
      "157/157 [==============================] - 60s 213ms/step - loss: 2.4732 - accuracy: 0.1113 - val_loss: 2.3049 - val_accuracy: 0.1000 - per_epoch_time: 59.5054\n",
      "Epoch 2/100\n",
      "157/157 [==============================] - 30s 190ms/step - loss: 2.4109 - accuracy: 0.1159 - val_loss: 2.3279 - val_accuracy: 0.1000 - per_epoch_time: 29.7945\n",
      "Epoch 3/100\n",
      "157/157 [==============================] - 30s 191ms/step - loss: 2.3843 - accuracy: 0.1195 - val_loss: 2.3510 - val_accuracy: 0.0998 - per_epoch_time: 29.9325\n",
      "Epoch 4/100\n",
      "157/157 [==============================] - 30s 192ms/step - loss: 2.3722 - accuracy: 0.1249 - val_loss: 2.2706 - val_accuracy: 0.1462 - per_epoch_time: 30.1086\n",
      "Epoch 5/100\n",
      "157/157 [==============================] - 30s 191ms/step - loss: 2.3585 - accuracy: 0.1307 - val_loss: 2.3331 - val_accuracy: 0.1455 - per_epoch_time: 29.9106\n",
      "Epoch 6/100\n",
      "157/157 [==============================] - 30s 190ms/step - loss: 2.3412 - accuracy: 0.1328 - val_loss: 2.3906 - val_accuracy: 0.1436 - per_epoch_time: 29.7537\n",
      "Epoch 7/100\n",
      "157/157 [==============================] - 30s 192ms/step - loss: 2.3395 - accuracy: 0.1319 - val_loss: 2.5650 - val_accuracy: 0.1411 - per_epoch_time: 30.0706\n",
      "Epoch 8/100\n",
      "157/157 [==============================] - 30s 190ms/step - loss: 2.3270 - accuracy: 0.1352 - val_loss: 2.3672 - val_accuracy: 0.1319 - per_epoch_time: 29.8247\n",
      "Epoch 9/100\n",
      "157/157 [==============================] - 30s 191ms/step - loss: 2.3263 - accuracy: 0.1345 - val_loss: 2.5495 - val_accuracy: 0.1358 - per_epoch_time: 29.9540\n",
      "Epoch 10/100\n",
      "157/157 [==============================] - 30s 190ms/step - loss: 2.3196 - accuracy: 0.1354 - val_loss: 2.3487 - val_accuracy: 0.1325 - per_epoch_time: 29.7967\n",
      "Epoch 11/100\n",
      "157/157 [==============================] - 30s 191ms/step - loss: 2.3116 - accuracy: 0.1412 - val_loss: 2.5541 - val_accuracy: 0.1264 - per_epoch_time: 30.0164\n",
      "Epoch 12/100\n",
      "157/157 [==============================] - 30s 191ms/step - loss: 2.2937 - accuracy: 0.1496 - val_loss: 2.3102 - val_accuracy: 0.1420 - per_epoch_time: 29.9222\n",
      "Epoch 13/100\n",
      "157/157 [==============================] - 30s 191ms/step - loss: 2.2731 - accuracy: 0.1644 - val_loss: 2.2988 - val_accuracy: 0.1437 - per_epoch_time: 29.9746\n",
      "Epoch 14/100\n",
      "157/157 [==============================] - 30s 190ms/step - loss: 2.2574 - accuracy: 0.1732 - val_loss: 2.3032 - val_accuracy: 0.1297 - per_epoch_time: 29.8920\n",
      "Epoch 15/100\n",
      "157/157 [==============================] - 30s 190ms/step - loss: 2.2243 - accuracy: 0.1943 - val_loss: 2.2676 - val_accuracy: 0.1667 - per_epoch_time: 29.7974\n",
      "Epoch 16/100\n",
      "157/157 [==============================] - 30s 190ms/step - loss: 2.1709 - accuracy: 0.2085 - val_loss: 2.2552 - val_accuracy: 0.1897 - per_epoch_time: 29.8782\n",
      "Epoch 17/100\n",
      "157/157 [==============================] - 30s 192ms/step - loss: 2.1226 - accuracy: 0.2254 - val_loss: 2.1685 - val_accuracy: 0.2030 - per_epoch_time: 30.0934\n",
      "Epoch 18/100\n",
      "157/157 [==============================] - 30s 191ms/step - loss: 2.0628 - accuracy: 0.2439 - val_loss: 2.0877 - val_accuracy: 0.2368 - per_epoch_time: 29.9457\n",
      "Epoch 19/100\n",
      "157/157 [==============================] - 30s 189ms/step - loss: 2.0111 - accuracy: 0.2646 - val_loss: 2.0691 - val_accuracy: 0.2495 - per_epoch_time: 29.7233\n",
      "Epoch 20/100\n",
      "157/157 [==============================] - 30s 191ms/step - loss: 1.9877 - accuracy: 0.2763 - val_loss: 2.1078 - val_accuracy: 0.2621 - per_epoch_time: 30.0280\n",
      "Epoch 21/100\n",
      "157/157 [==============================] - 30s 190ms/step - loss: 1.9592 - accuracy: 0.2874 - val_loss: 1.9805 - val_accuracy: 0.2825 - per_epoch_time: 29.8082\n",
      "Epoch 22/100\n",
      "157/157 [==============================] - 30s 189ms/step - loss: 1.9327 - accuracy: 0.2981 - val_loss: 2.1163 - val_accuracy: 0.2980 - per_epoch_time: 29.7162\n",
      "Epoch 23/100\n",
      "157/157 [==============================] - 30s 188ms/step - loss: 1.9040 - accuracy: 0.3118 - val_loss: 1.8614 - val_accuracy: 0.3301 - per_epoch_time: 29.5561\n",
      "Epoch 24/100\n",
      "157/157 [==============================] - 30s 190ms/step - loss: 1.8832 - accuracy: 0.3191 - val_loss: 1.9048 - val_accuracy: 0.3334 - per_epoch_time: 29.7909\n",
      "Epoch 25/100\n",
      "157/157 [==============================] - 30s 190ms/step - loss: 1.8579 - accuracy: 0.3304 - val_loss: 1.8060 - val_accuracy: 0.3474 - per_epoch_time: 29.8086\n",
      "Epoch 26/100\n",
      "157/157 [==============================] - 30s 188ms/step - loss: 1.8379 - accuracy: 0.3380 - val_loss: 1.8550 - val_accuracy: 0.3688 - per_epoch_time: 29.5985\n",
      "Epoch 27/100\n",
      "157/157 [==============================] - 29s 187ms/step - loss: 1.8154 - accuracy: 0.3463 - val_loss: 1.8096 - val_accuracy: 0.3463 - per_epoch_time: 29.3065\n",
      "Epoch 28/100\n",
      "157/157 [==============================] - 30s 189ms/step - loss: 1.8011 - accuracy: 0.3544 - val_loss: 1.7294 - val_accuracy: 0.3804 - per_epoch_time: 29.6995\n",
      "Epoch 29/100\n",
      "157/157 [==============================] - 29s 188ms/step - loss: 1.7849 - accuracy: 0.3581 - val_loss: 1.8012 - val_accuracy: 0.3667 - per_epoch_time: 29.4863\n",
      "Epoch 30/100\n",
      "157/157 [==============================] - 30s 188ms/step - loss: 1.7815 - accuracy: 0.3598 - val_loss: 1.7036 - val_accuracy: 0.3781 - per_epoch_time: 29.5074\n",
      "Epoch 31/100\n",
      "157/157 [==============================] - 30s 188ms/step - loss: 1.7589 - accuracy: 0.3660 - val_loss: 1.7416 - val_accuracy: 0.4007 - per_epoch_time: 29.5206\n",
      "Epoch 32/100\n",
      "157/157 [==============================] - 30s 189ms/step - loss: 1.7494 - accuracy: 0.3729 - val_loss: 1.7535 - val_accuracy: 0.3652 - per_epoch_time: 29.5956\n",
      "Epoch 33/100\n",
      "157/157 [==============================] - 30s 190ms/step - loss: 1.7337 - accuracy: 0.3775 - val_loss: 1.7930 - val_accuracy: 0.3567 - per_epoch_time: 29.8815\n",
      "Epoch 34/100\n",
      "157/157 [==============================] - 30s 189ms/step - loss: 1.7247 - accuracy: 0.3808 - val_loss: 5.6451 - val_accuracy: 0.3616 - per_epoch_time: 29.6492\n",
      "Epoch 35/100\n",
      "157/157 [==============================] - 30s 188ms/step - loss: 1.7077 - accuracy: 0.3843 - val_loss: 1.6704 - val_accuracy: 0.4052 - per_epoch_time: 29.5077\n",
      "Epoch 36/100\n",
      "157/157 [==============================] - 30s 189ms/step - loss: 1.6971 - accuracy: 0.3903 - val_loss: 1.6437 - val_accuracy: 0.4126 - per_epoch_time: 29.6279\n",
      "Epoch 37/100\n",
      "157/157 [==============================] - 30s 188ms/step - loss: 1.6828 - accuracy: 0.3959 - val_loss: 1.6478 - val_accuracy: 0.4229 - per_epoch_time: 29.5336\n",
      "Epoch 38/100\n",
      "157/157 [==============================] - 30s 189ms/step - loss: 1.6715 - accuracy: 0.4025 - val_loss: 1.6992 - val_accuracy: 0.4003 - per_epoch_time: 29.6457\n",
      "Epoch 39/100\n",
      "157/157 [==============================] - 30s 190ms/step - loss: 1.6568 - accuracy: 0.4084 - val_loss: 1.6324 - val_accuracy: 0.4152 - per_epoch_time: 29.8402\n",
      "Epoch 40/100\n",
      "157/157 [==============================] - 30s 189ms/step - loss: 1.6457 - accuracy: 0.4123 - val_loss: 1.6104 - val_accuracy: 0.4222 - per_epoch_time: 29.6872\n",
      "Epoch 41/100\n",
      "157/157 [==============================] - 30s 189ms/step - loss: 1.6370 - accuracy: 0.4160 - val_loss: 1.5830 - val_accuracy: 0.4403 - per_epoch_time: 29.6713\n",
      "Epoch 42/100\n",
      "157/157 [==============================] - 30s 190ms/step - loss: 1.6180 - accuracy: 0.4192 - val_loss: 1.6210 - val_accuracy: 0.4223 - per_epoch_time: 29.8933\n",
      "Epoch 43/100\n",
      "157/157 [==============================] - 30s 190ms/step - loss: 1.6126 - accuracy: 0.4261 - val_loss: 1.5444 - val_accuracy: 0.4496 - per_epoch_time: 29.8750\n",
      "Epoch 44/100\n",
      "157/157 [==============================] - 30s 191ms/step - loss: 1.6015 - accuracy: 0.4271 - val_loss: 1.5529 - val_accuracy: 0.4496 - per_epoch_time: 29.9425\n",
      "Epoch 45/100\n",
      "157/157 [==============================] - 30s 191ms/step - loss: 1.5899 - accuracy: 0.4291 - val_loss: 1.6511 - val_accuracy: 0.4108 - per_epoch_time: 29.9897\n",
      "Epoch 46/100\n",
      "157/157 [==============================] - 30s 191ms/step - loss: 1.5984 - accuracy: 0.4271 - val_loss: 3.0104 - val_accuracy: 0.4266 - per_epoch_time: 29.9399\n",
      "Epoch 47/100\n",
      "157/157 [==============================] - 30s 191ms/step - loss: 1.5855 - accuracy: 0.4365 - val_loss: 1.8314 - val_accuracy: 0.3935 - per_epoch_time: 29.9409\n",
      "Epoch 48/100\n"
     ]
    },
    {
     "name": "stdout",
     "output_type": "stream",
     "text": [
      "157/157 [==============================] - 30s 190ms/step - loss: 1.5757 - accuracy: 0.4392 - val_loss: 1.5397 - val_accuracy: 0.4493 - per_epoch_time: 29.8221\n",
      "Epoch 49/100\n",
      "157/157 [==============================] - 30s 189ms/step - loss: 1.5555 - accuracy: 0.4443 - val_loss: 1.6116 - val_accuracy: 0.4302 - per_epoch_time: 29.7062\n",
      "Epoch 50/100\n",
      "157/157 [==============================] - 30s 190ms/step - loss: 1.5615 - accuracy: 0.4450 - val_loss: 1.5567 - val_accuracy: 0.4455 - per_epoch_time: 29.8268\n",
      "Epoch 51/100\n",
      "157/157 [==============================] - 30s 189ms/step - loss: 1.5467 - accuracy: 0.4475 - val_loss: 1.5766 - val_accuracy: 0.4418 - per_epoch_time: 29.6843\n",
      "Epoch 52/100\n",
      "157/157 [==============================] - 30s 189ms/step - loss: 1.5273 - accuracy: 0.4548 - val_loss: 1.5872 - val_accuracy: 0.4499 - per_epoch_time: 29.6446\n",
      "Epoch 53/100\n",
      "157/157 [==============================] - 30s 189ms/step - loss: 1.5196 - accuracy: 0.4599 - val_loss: 1.5502 - val_accuracy: 0.4413 - per_epoch_time: 29.6050\n",
      "Epoch 54/100\n",
      "157/157 [==============================] - 30s 189ms/step - loss: 1.5126 - accuracy: 0.4597 - val_loss: 1.5627 - val_accuracy: 0.4485 - per_epoch_time: 29.6271\n",
      "Epoch 55/100\n",
      "157/157 [==============================] - 30s 191ms/step - loss: 1.4993 - accuracy: 0.4649 - val_loss: 2.5641 - val_accuracy: 0.4736 - per_epoch_time: 29.9741\n",
      "Epoch 56/100\n",
      "157/157 [==============================] - 30s 189ms/step - loss: 1.4860 - accuracy: 0.4712 - val_loss: 1.6395 - val_accuracy: 0.4709 - per_epoch_time: 29.5994\n",
      "Epoch 57/100\n",
      "157/157 [==============================] - 30s 188ms/step - loss: 1.4759 - accuracy: 0.4742 - val_loss: 1.6565 - val_accuracy: 0.4423 - per_epoch_time: 29.5554\n",
      "Epoch 58/100\n",
      "157/157 [==============================] - 30s 189ms/step - loss: 1.4645 - accuracy: 0.4799 - val_loss: 1.6486 - val_accuracy: 0.4205 - per_epoch_time: 29.7357\n",
      "Epoch 59/100\n",
      "157/157 [==============================] - 30s 190ms/step - loss: 1.4669 - accuracy: 0.4782 - val_loss: 1.6334 - val_accuracy: 0.4278 - per_epoch_time: 29.7824\n",
      "Epoch 60/100\n",
      "157/157 [==============================] - 30s 191ms/step - loss: 1.4544 - accuracy: 0.4841 - val_loss: 1.5009 - val_accuracy: 0.4812 - per_epoch_time: 29.9326\n",
      "Epoch 61/100\n",
      "157/157 [==============================] - 30s 190ms/step - loss: 1.4377 - accuracy: 0.4868 - val_loss: 1.5110 - val_accuracy: 0.4673 - per_epoch_time: 29.7440\n",
      "Epoch 62/100\n",
      "157/157 [==============================] - 30s 191ms/step - loss: 1.4384 - accuracy: 0.4890 - val_loss: 1.5493 - val_accuracy: 0.4592 - per_epoch_time: 29.9550\n",
      "Epoch 63/100\n",
      "157/157 [==============================] - 30s 190ms/step - loss: 1.4187 - accuracy: 0.4914 - val_loss: 1.4392 - val_accuracy: 0.4851 - per_epoch_time: 29.7688\n",
      "Epoch 64/100\n",
      "157/157 [==============================] - 30s 189ms/step - loss: 1.4133 - accuracy: 0.4940 - val_loss: 1.4358 - val_accuracy: 0.4845 - per_epoch_time: 29.7268\n",
      "Epoch 65/100\n",
      "157/157 [==============================] - 30s 190ms/step - loss: 1.4031 - accuracy: 0.4991 - val_loss: 1.4939 - val_accuracy: 0.4719 - per_epoch_time: 29.8573\n",
      "Epoch 66/100\n",
      "157/157 [==============================] - 30s 190ms/step - loss: 1.4060 - accuracy: 0.4974 - val_loss: 1.5676 - val_accuracy: 0.4546 - per_epoch_time: 29.8662\n",
      "Epoch 67/100\n",
      "157/157 [==============================] - 30s 189ms/step - loss: 1.4112 - accuracy: 0.4970 - val_loss: 1.6269 - val_accuracy: 0.4293 - per_epoch_time: 29.7233\n",
      "Epoch 68/100\n",
      "157/157 [==============================] - 30s 191ms/step - loss: 1.4172 - accuracy: 0.4970 - val_loss: 1.5555 - val_accuracy: 0.4519 - per_epoch_time: 29.9249\n",
      "Epoch 69/100\n",
      "157/157 [==============================] - 30s 191ms/step - loss: 1.4212 - accuracy: 0.4935 - val_loss: 1.4634 - val_accuracy: 0.4903 - per_epoch_time: 29.9066\n",
      "Epoch 70/100\n",
      "157/157 [==============================] - 29s 188ms/step - loss: 1.3645 - accuracy: 0.5136 - val_loss: 1.3677 - val_accuracy: 0.5149 - per_epoch_time: 29.4891\n",
      "Epoch 71/100\n",
      "157/157 [==============================] - 30s 189ms/step - loss: 1.3465 - accuracy: 0.5196 - val_loss: 1.5516 - val_accuracy: 0.4645 - per_epoch_time: 29.6352\n",
      "Epoch 72/100\n",
      "157/157 [==============================] - 30s 189ms/step - loss: 1.3419 - accuracy: 0.5224 - val_loss: 2.0870 - val_accuracy: 0.4838 - per_epoch_time: 29.6179\n",
      "Epoch 73/100\n",
      "157/157 [==============================] - 30s 190ms/step - loss: 1.3279 - accuracy: 0.5270 - val_loss: 1.3348 - val_accuracy: 0.5201 - per_epoch_time: 29.8168\n",
      "Epoch 74/100\n",
      "157/157 [==============================] - 29s 187ms/step - loss: 1.3222 - accuracy: 0.5279 - val_loss: 1.7707 - val_accuracy: 0.4262 - per_epoch_time: 29.3654\n",
      "Epoch 75/100\n",
      "157/157 [==============================] - 29s 187ms/step - loss: 1.3096 - accuracy: 0.5324 - val_loss: 1.5032 - val_accuracy: 0.4802 - per_epoch_time: 29.3139\n",
      "Epoch 76/100\n",
      "157/157 [==============================] - 30s 189ms/step - loss: 1.3091 - accuracy: 0.5334 - val_loss: 1.2935 - val_accuracy: 0.5416 - per_epoch_time: 29.6354\n",
      "Epoch 77/100\n",
      "157/157 [==============================] - 30s 188ms/step - loss: 1.3076 - accuracy: 0.5318 - val_loss: 1.8250 - val_accuracy: 0.4576 - per_epoch_time: 29.5856\n",
      "Epoch 78/100\n",
      "157/157 [==============================] - 30s 191ms/step - loss: 1.2962 - accuracy: 0.5359 - val_loss: 1.3313 - val_accuracy: 0.5349 - per_epoch_time: 29.9335\n",
      "Epoch 79/100\n",
      "157/157 [==============================] - 30s 191ms/step - loss: 1.2850 - accuracy: 0.5434 - val_loss: 1.3922 - val_accuracy: 0.5093 - per_epoch_time: 30.0354\n",
      "Epoch 80/100\n",
      "157/157 [==============================] - 29s 187ms/step - loss: 1.2710 - accuracy: 0.5480 - val_loss: 1.4268 - val_accuracy: 0.4938 - per_epoch_time: 29.3637\n",
      "Epoch 81/100\n",
      "157/157 [==============================] - 29s 187ms/step - loss: 1.2279 - accuracy: 0.5615 - val_loss: 1.2517 - val_accuracy: 0.5594 - per_epoch_time: 29.4324\n",
      "Epoch 82/100\n",
      "157/157 [==============================] - 30s 189ms/step - loss: 1.2131 - accuracy: 0.5674 - val_loss: 1.2745 - val_accuracy: 0.5528 - per_epoch_time: 29.6595\n",
      "Epoch 83/100\n",
      "157/157 [==============================] - 30s 189ms/step - loss: 1.2037 - accuracy: 0.5694 - val_loss: 1.2475 - val_accuracy: 0.5613 - per_epoch_time: 29.6544\n",
      "Epoch 84/100\n",
      "157/157 [==============================] - 30s 189ms/step - loss: 1.2008 - accuracy: 0.5700 - val_loss: 1.2695 - val_accuracy: 0.5561 - per_epoch_time: 29.6704\n",
      "Epoch 85/100\n",
      "157/157 [==============================] - 30s 190ms/step - loss: 1.1926 - accuracy: 0.5731 - val_loss: 1.3122 - val_accuracy: 0.5455 - per_epoch_time: 29.7695\n",
      "Epoch 86/100\n",
      "157/157 [==============================] - 30s 188ms/step - loss: 1.1966 - accuracy: 0.5731 - val_loss: 1.2696 - val_accuracy: 0.5571 - per_epoch_time: 29.5792\n",
      "Epoch 87/100\n",
      "157/157 [==============================] - 30s 189ms/step - loss: 1.1913 - accuracy: 0.5740 - val_loss: 1.2801 - val_accuracy: 0.5547 - per_epoch_time: 29.7315\n",
      "Epoch 88/100\n",
      "157/157 [==============================] - 30s 189ms/step - loss: 1.1924 - accuracy: 0.5721 - val_loss: 1.3008 - val_accuracy: 0.5499 - per_epoch_time: 29.7228\n",
      "Epoch 89/100\n",
      "157/157 [==============================] - 30s 189ms/step - loss: 1.1847 - accuracy: 0.5767 - val_loss: 1.2971 - val_accuracy: 0.5491 - per_epoch_time: 29.6493\n",
      "Epoch 90/100\n",
      "157/157 [==============================] - 30s 189ms/step - loss: 1.1828 - accuracy: 0.5779 - val_loss: 1.2964 - val_accuracy: 0.5507 - per_epoch_time: 29.7088\n",
      "Epoch 91/100\n",
      "157/157 [==============================] - 30s 189ms/step - loss: 1.1765 - accuracy: 0.5804 - val_loss: 1.2837 - val_accuracy: 0.5574 - per_epoch_time: 29.7075\n",
      "Epoch 92/100\n",
      "157/157 [==============================] - 30s 189ms/step - loss: 1.1737 - accuracy: 0.5785 - val_loss: 1.2952 - val_accuracy: 0.5529 - per_epoch_time: 29.5837\n",
      "Epoch 93/100\n",
      "157/157 [==============================] - 30s 189ms/step - loss: 1.1725 - accuracy: 0.5813 - val_loss: 1.2410 - val_accuracy: 0.5674 - per_epoch_time: 29.6206\n",
      "Epoch 94/100\n",
      "157/157 [==============================] - 30s 189ms/step - loss: 1.1778 - accuracy: 0.5784 - val_loss: 1.2719 - val_accuracy: 0.5550 - per_epoch_time: 29.6314\n",
      "Epoch 95/100\n"
     ]
    },
    {
     "name": "stdout",
     "output_type": "stream",
     "text": [
      "157/157 [==============================] - 30s 190ms/step - loss: 1.1675 - accuracy: 0.5790 - val_loss: 1.3552 - val_accuracy: 0.5549 - per_epoch_time: 29.7521\n",
      "Epoch 96/100\n",
      "157/157 [==============================] - 30s 189ms/step - loss: 1.1677 - accuracy: 0.5822 - val_loss: 1.2542 - val_accuracy: 0.5628 - per_epoch_time: 29.6772\n",
      "Epoch 97/100\n",
      "157/157 [==============================] - 30s 189ms/step - loss: 1.1677 - accuracy: 0.5832 - val_loss: 1.2983 - val_accuracy: 0.5572 - per_epoch_time: 29.6808\n",
      "Epoch 98/100\n",
      "157/157 [==============================] - 30s 189ms/step - loss: 1.1707 - accuracy: 0.5820 - val_loss: 1.2802 - val_accuracy: 0.5632 - per_epoch_time: 29.6716\n",
      "Epoch 99/100\n",
      "157/157 [==============================] - 29s 186ms/step - loss: 1.1562 - accuracy: 0.5834 - val_loss: 1.3748 - val_accuracy: 0.5450 - per_epoch_time: 29.1147\n",
      "Epoch 100/100\n",
      "157/157 [==============================] - 29s 187ms/step - loss: 1.1566 - accuracy: 0.5846 - val_loss: 1.3151 - val_accuracy: 0.5638 - per_epoch_time: 29.3937\n"
     ]
    }
   ],
   "source": [
    "a92_model = ran_model\n",
    "\n",
    "a92_model.compile(optimizer=our_optimizer, \n",
    "                  loss=tf.keras.losses.CategoricalCrossentropy(), \n",
    "                  metrics=['accuracy'])\n",
    "\n",
    "\n",
    "history = a92_model.fit(train_ds,\n",
    "                        validation_data=val_ds,\n",
    "                        callbacks=callbacks,\n",
    "                        epochs=N_EPOCH, verbose=1)"
   ]
  },
  {
   "cell_type": "code",
   "execution_count": null,
   "metadata": {
    "id": "OXrvIm9KrqTI"
   },
   "outputs": [],
   "source": []
  },
  {
   "cell_type": "markdown",
   "metadata": {
    "id": "I4KnIPlArqyF"
   },
   "source": [
    "### Attention-128"
   ]
  },
  {
   "cell_type": "code",
   "execution_count": 13,
   "metadata": {
    "ExecuteTime": {
     "end_time": "2021-12-10T00:23:23.494459Z",
     "start_time": "2021-12-10T00:23:18.273512Z"
    },
    "colab": {
     "base_uri": "https://localhost:8080/"
    },
    "id": "FcqhwWZRrpyq",
    "outputId": "a3fc9261-575d-4f5f-ae60-4af4e3e1d597",
    "scrolled": true
   },
   "outputs": [
    {
     "name": "stdout",
     "output_type": "stream",
     "text": [
      "Model: \"attention128\"\n",
      "_________________________________________________________________\n",
      " Layer (type)                Output Shape              Param #   \n",
      "=================================================================\n",
      " sequential_3 (Sequential)   (None, 32, 32, 3)         0         \n",
      "                                                                 \n",
      " conv2d_392 (Conv2D)         multiple                  864       \n",
      "                                                                 \n",
      " batch_normalization_301 (Ba  multiple                 128       \n",
      " tchNormalization)                                               \n",
      "                                                                 \n",
      " re_lu_301 (ReLU)            multiple                  0         \n",
      "                                                                 \n",
      " max_pooling2d_20 (MaxPoolin  multiple                 0         \n",
      " g2D)                                                            \n",
      "                                                                 \n",
      " residual_unit_93 (ResidualU  multiple                 19520     \n",
      " nit)                                                            \n",
      "                                                                 \n",
      " attention_module_9 (Attenti  multiple                 452352    \n",
      " onModule)                                                       \n",
      "                                                                 \n",
      " attention_module_10 (Attent  multiple                 452352    \n",
      " ionModule)                                                      \n",
      "                                                                 \n",
      " attention_module_11 (Attent  multiple                 452352    \n",
      " ionModule)                                                      \n",
      "                                                                 \n",
      " residual_unit_130 (Residual  multiple                 96384     \n",
      " Unit)                                                           \n",
      "                                                                 \n",
      " attention_module_12 (Attent  multiple                 1369216   \n",
      " ionModule)                                                      \n",
      "                                                                 \n",
      " attention_module_13 (Attent  multiple                 1369216   \n",
      " ionModule)                                                      \n",
      "                                                                 \n",
      " attention_module_14 (Attent  multiple                 1369216   \n",
      " ionModule)                                                      \n",
      "                                                                 \n",
      " residual_unit_158 (Residual  multiple                 381184    \n",
      " Unit)                                                           \n",
      "                                                                 \n",
      " attention_module_15 (Attent  multiple                 3798528   \n",
      " ionModule)                                                      \n",
      "                                                                 \n",
      " attention_module_16 (Attent  multiple                 3798528   \n",
      " ionModule)                                                      \n",
      "                                                                 \n",
      " attention_module_17 (Attent  multiple                 3798528   \n",
      " ionModule)                                                      \n",
      "                                                                 \n",
      " residual_unit_177 (Residual  multiple                 1516032   \n",
      " Unit)                                                           \n",
      "                                                                 \n",
      " residual_unit_178 (Residual  multiple                 2171392   \n",
      " Unit)                                                           \n",
      "                                                                 \n",
      " residual_unit_179 (Residual  multiple                 2171392   \n",
      " Unit)                                                           \n",
      "                                                                 \n",
      " batch_normalization_581 (Ba  multiple                 4096      \n",
      " tchNormalization)                                               \n",
      "                                                                 \n",
      " re_lu_581 (ReLU)            multiple                  0         \n",
      "                                                                 \n",
      " average_pooling2d_2 (Averag  multiple                 0         \n",
      " ePooling2D)                                                     \n",
      "                                                                 \n",
      " flatten_2 (Flatten)         multiple                  0         \n",
      "                                                                 \n",
      " dropout_2 (Dropout)         multiple                  0         \n",
      "                                                                 \n",
      " dense_2 (Dense)             multiple                  10250     \n",
      "                                                                 \n",
      "=================================================================\n",
      "Total params: 23,231,530\n",
      "Trainable params: 23,144,554\n",
      "Non-trainable params: 86,976\n",
      "_________________________________________________________________\n"
     ]
    }
   ],
   "source": [
    "ran_model = Attention128(input_shape=INPUT_SHAPE, num_class=NUM_CLASS)\n",
    "inputs = tf.keras.Input(INPUT_SHAPE)\n",
    "ran_model(inputs)\n",
    "ran_model.summary()"
   ]
  },
  {
   "cell_type": "code",
   "execution_count": null,
   "metadata": {},
   "outputs": [],
   "source": [
    "## Callbacks\n",
    "time_callback = TimeHistory()\n",
    "\n",
    "# checkpointing & logger\n",
    "model_checkpointer = ModelCheckpoint(filepath=\"data/saved_weights/3-a128-cifar10.h5\",\n",
    "                                     verbose=0,\n",
    "                                     save_weights_only=True,\n",
    "                                     save_best_only=False)\n",
    "\n",
    "csv_logger = CSVLogger('data/logs/3-a128-cifar10.csv')\n",
    "\n",
    "callbacks = [model_checkpointer, time_callback, csv_logger]\n",
    "\n",
    "## Learning rate scheduler\n",
    "lr_schedule = tf.keras.optimizers.schedules.PiecewiseConstantDecay(\n",
    "    boundaries=[80*STEP_SIZE, 120*STEP_SIZE, 160*STEP_SIZE, 180*STEP_SIZE],\n",
    "    values=[LR, 0.1*LR, 1e-2*LR, 1e-3*LR, 0.5e-3*LR]\n",
    ")\n",
    "\n",
    "our_optimizer = tf.keras.optimizers.Adam(learning_rate=lr_schedule)"
   ]
  },
  {
   "cell_type": "code",
   "execution_count": 16,
   "metadata": {
    "colab": {
     "base_uri": "https://localhost:8080/"
    },
    "id": "lXslNLPZruaS",
    "outputId": "4f7f2030-e27e-4ea0-eccc-02fa36a8786e",
    "scrolled": true
   },
   "outputs": [
    {
     "name": "stdout",
     "output_type": "stream",
     "text": [
      "Epoch 1/10\n",
      "157/157 [==============================] - 97s 425ms/step - loss: 2.3997 - accuracy: 0.1120 - val_loss: 2.3032 - val_accuracy: 0.1000\n",
      "Epoch 2/10\n",
      "157/157 [==============================] - 62s 394ms/step - loss: 2.3201 - accuracy: 0.1385 - val_loss: 2.3081 - val_accuracy: 0.1000\n",
      "Epoch 3/10\n",
      "157/157 [==============================] - 62s 394ms/step - loss: 2.3025 - accuracy: 0.1425 - val_loss: 2.3207 - val_accuracy: 0.1014\n",
      "Epoch 4/10\n",
      "157/157 [==============================] - 62s 393ms/step - loss: 2.2850 - accuracy: 0.1495 - val_loss: 2.2386 - val_accuracy: 0.1558\n",
      "Epoch 5/10\n",
      "157/157 [==============================] - 62s 393ms/step - loss: 2.2778 - accuracy: 0.1456 - val_loss: 2.2371 - val_accuracy: 0.1636\n",
      "Epoch 6/10\n",
      "157/157 [==============================] - 62s 394ms/step - loss: 2.2649 - accuracy: 0.1521 - val_loss: 2.3654 - val_accuracy: 0.1311\n",
      "Epoch 7/10\n",
      "157/157 [==============================] - 62s 393ms/step - loss: 2.2690 - accuracy: 0.1529 - val_loss: 2.3923 - val_accuracy: 0.1262\n",
      "Epoch 8/10\n",
      "157/157 [==============================] - 62s 393ms/step - loss: 2.2531 - accuracy: 0.1548 - val_loss: 3.0107 - val_accuracy: 0.1535\n",
      "Epoch 9/10\n",
      "157/157 [==============================] - 62s 393ms/step - loss: 2.2464 - accuracy: 0.1580 - val_loss: 2.2079 - val_accuracy: 0.1711\n",
      "Epoch 10/10\n",
      "157/157 [==============================] - 62s 393ms/step - loss: 2.2376 - accuracy: 0.1599 - val_loss: 2.2123 - val_accuracy: 0.1689\n"
     ]
    }
   ],
   "source": [
    "a128_model = ran_model\n",
    "\n",
    "a128_model.compile(optimizer=our_optimizer, \n",
    "                   loss=tf.keras.losses.CategoricalCrossentropy(), \n",
    "                   metrics=['accuracy'])\n",
    "\n",
    "\n",
    "history = a128_model.fit(train_ds,\n",
    "                         validation_data=val_ds,\n",
    "                         callbacks=callbacks,\n",
    "                         epochs=N_EPOCH, verbose=1)"
   ]
  },
  {
   "cell_type": "markdown",
   "metadata": {
    "id": "ON-OSON-r2fj"
   },
   "source": [
    "### Attention-164"
   ]
  },
  {
   "cell_type": "code",
   "execution_count": 14,
   "metadata": {
    "ExecuteTime": {
     "end_time": "2021-12-10T00:23:58.232102Z",
     "start_time": "2021-12-10T00:23:51.815463Z"
    },
    "colab": {
     "base_uri": "https://localhost:8080/"
    },
    "id": "P2dT297er3BC",
    "outputId": "df57e372-8e41-4f86-8a80-4bc270791051",
    "scrolled": true
   },
   "outputs": [
    {
     "name": "stdout",
     "output_type": "stream",
     "text": [
      "Model: \"attention164\"\n",
      "_________________________________________________________________\n",
      " Layer (type)                Output Shape              Param #   \n",
      "=================================================================\n",
      " sequential_4 (Sequential)   (None, 32, 32, 3)         0         \n",
      "                                                                 \n",
      " conv2d_759 (Conv2D)         multiple                  864       \n",
      "                                                                 \n",
      " batch_normalization_582 (Ba  multiple                 128       \n",
      " tchNormalization)                                               \n",
      "                                                                 \n",
      " re_lu_582 (ReLU)            multiple                  0         \n",
      "                                                                 \n",
      " max_pooling2d_39 (MaxPoolin  multiple                 0         \n",
      " g2D)                                                            \n",
      "                                                                 \n",
      " residual_unit_180 (Residual  multiple                 19520     \n",
      " Unit)                                                           \n",
      "                                                                 \n",
      " attention_module_18 (Attent  multiple                 452352    \n",
      " ionModule)                                                      \n",
      "                                                                 \n",
      " attention_module_19 (Attent  multiple                 452352    \n",
      " ionModule)                                                      \n",
      "                                                                 \n",
      " attention_module_20 (Attent  multiple                 452352    \n",
      " ionModule)                                                      \n",
      "                                                                 \n",
      " attention_module_21 (Attent  multiple                 452352    \n",
      " ionModule)                                                      \n",
      "                                                                 \n",
      " residual_unit_229 (Residual  multiple                 96384     \n",
      " Unit)                                                           \n",
      "                                                                 \n",
      " attention_module_22 (Attent  multiple                 1369216   \n",
      " ionModule)                                                      \n",
      "                                                                 \n",
      " attention_module_23 (Attent  multiple                 1369216   \n",
      " ionModule)                                                      \n",
      "                                                                 \n",
      " attention_module_24 (Attent  multiple                 1369216   \n",
      " ionModule)                                                      \n",
      "                                                                 \n",
      " attention_module_25 (Attent  multiple                 1369216   \n",
      " ionModule)                                                      \n",
      "                                                                 \n",
      " residual_unit_266 (Residual  multiple                 381184    \n",
      " Unit)                                                           \n",
      "                                                                 \n",
      " attention_module_26 (Attent  multiple                 3798528   \n",
      " ionModule)                                                      \n",
      "                                                                 \n",
      " attention_module_27 (Attent  multiple                 3798528   \n",
      " ionModule)                                                      \n",
      "                                                                 \n",
      " attention_module_28 (Attent  multiple                 3798528   \n",
      " ionModule)                                                      \n",
      "                                                                 \n",
      " attention_module_29 (Attent  multiple                 3798528   \n",
      " ionModule)                                                      \n",
      "                                                                 \n",
      " residual_unit_291 (Residual  multiple                 1516032   \n",
      " Unit)                                                           \n",
      "                                                                 \n",
      " residual_unit_292 (Residual  multiple                 2171392   \n",
      " Unit)                                                           \n",
      "                                                                 \n",
      " residual_unit_293 (Residual  multiple                 2171392   \n",
      " Unit)                                                           \n",
      "                                                                 \n",
      " batch_normalization_949 (Ba  multiple                 4096      \n",
      " tchNormalization)                                               \n",
      "                                                                 \n",
      " re_lu_949 (ReLU)            multiple                  0         \n",
      "                                                                 \n",
      " average_pooling2d_3 (Averag  multiple                 0         \n",
      " ePooling2D)                                                     \n",
      "                                                                 \n",
      " flatten_3 (Flatten)         multiple                  0         \n",
      "                                                                 \n",
      " dropout_3 (Dropout)         multiple                  0         \n",
      "                                                                 \n",
      " dense_3 (Dense)             multiple                  10250     \n",
      "                                                                 \n",
      "=================================================================\n",
      "Total params: 28,851,626\n",
      "Trainable params: 28,740,330\n",
      "Non-trainable params: 111,296\n",
      "_________________________________________________________________\n"
     ]
    }
   ],
   "source": [
    "ran_model = Attention164(input_shape=INPUT_SHAPE, num_class=NUM_CLASS)\n",
    "inputs = tf.keras.Input(INPUT_SHAPE)\n",
    "ran_model(inputs)\n",
    "ran_model.summary()"
   ]
  },
  {
   "cell_type": "code",
   "execution_count": null,
   "metadata": {},
   "outputs": [],
   "source": [
    "## Callbacks\n",
    "time_callback = TimeHistory()\n",
    "\n",
    "# checkpointing & logger\n",
    "model_checkpointer = ModelCheckpoint(filepath=\"data/saved_weights/4-a192-cifar10.h5\",\n",
    "                                     verbose=0,\n",
    "                                     save_weights_only=True,\n",
    "                                     save_best_only=False)\n",
    "\n",
    "csv_logger = CSVLogger('data/logs/4-a192-cifar10.csv')\n",
    "\n",
    "callbacks = [model_checkpointer, time_callback, csv_logger]\n",
    "\n",
    "## Learning rate scheduler\n",
    "lr_schedule = tf.keras.optimizers.schedules.PiecewiseConstantDecay(\n",
    "    boundaries=[80*STEP_SIZE, 120*STEP_SIZE, 160*STEP_SIZE, 180*STEP_SIZE],\n",
    "    values=[LR, 0.1*LR, 1e-2*LR, 1e-3*LR, 0.5e-3*LR]\n",
    ")\n",
    "\n",
    "our_optimizer = tf.keras.optimizers.Adam(learning_rate=lr_schedule)"
   ]
  },
  {
   "cell_type": "code",
   "execution_count": 17,
   "metadata": {
    "colab": {
     "base_uri": "https://localhost:8080/",
     "height": 468
    },
    "id": "xN_rU059r3c5",
    "outputId": "52a46f02-3a74-4fd8-8244-4877abe19fdc"
   },
   "outputs": [
    {
     "name": "stdout",
     "output_type": "stream",
     "text": [
      "Epoch 1/10\n",
      "157/157 [==============================] - 98s 425ms/step - loss: 2.1079 - accuracy: 0.1941 - val_loss: 2.1368 - val_accuracy: 0.1748\n",
      "Epoch 2/10\n",
      "157/157 [==============================] - 62s 395ms/step - loss: 1.9617 - accuracy: 0.2410 - val_loss: 2.9659 - val_accuracy: 0.1587\n",
      "Epoch 3/10\n",
      "157/157 [==============================] - 62s 395ms/step - loss: 1.9016 - accuracy: 0.2630 - val_loss: 3.4470 - val_accuracy: 0.1594\n"
     ]
    },
    {
     "ename": "KeyboardInterrupt",
     "evalue": "ignored",
     "output_type": "error",
     "traceback": [
      "\u001b[0;31m---------------------------------------------------------------------------\u001b[0m",
      "\u001b[0;31mKeyboardInterrupt\u001b[0m                         Traceback (most recent call last)",
      "\u001b[0;32m<ipython-input-17-3b35fd353949>\u001b[0m in \u001b[0;36m<module>\u001b[0;34m()\u001b[0m\n\u001b[1;32m      8\u001b[0m history = a164_model.fit(train_ds,\n\u001b[1;32m      9\u001b[0m                          \u001b[0mvalidation_data\u001b[0m\u001b[0;34m=\u001b[0m\u001b[0mval_ds\u001b[0m\u001b[0;34m,\u001b[0m\u001b[0;34m\u001b[0m\u001b[0;34m\u001b[0m\u001b[0m\n\u001b[0;32m---> 10\u001b[0;31m                          epochs=N_EPOCH, verbose=1)\n\u001b[0m",
      "\u001b[0;32m/usr/local/lib/python3.7/dist-packages/keras/utils/traceback_utils.py\u001b[0m in \u001b[0;36merror_handler\u001b[0;34m(*args, **kwargs)\u001b[0m\n\u001b[1;32m     62\u001b[0m     \u001b[0mfiltered_tb\u001b[0m \u001b[0;34m=\u001b[0m \u001b[0;32mNone\u001b[0m\u001b[0;34m\u001b[0m\u001b[0;34m\u001b[0m\u001b[0m\n\u001b[1;32m     63\u001b[0m     \u001b[0;32mtry\u001b[0m\u001b[0;34m:\u001b[0m\u001b[0;34m\u001b[0m\u001b[0;34m\u001b[0m\u001b[0m\n\u001b[0;32m---> 64\u001b[0;31m       \u001b[0;32mreturn\u001b[0m \u001b[0mfn\u001b[0m\u001b[0;34m(\u001b[0m\u001b[0;34m*\u001b[0m\u001b[0margs\u001b[0m\u001b[0;34m,\u001b[0m \u001b[0;34m**\u001b[0m\u001b[0mkwargs\u001b[0m\u001b[0;34m)\u001b[0m\u001b[0;34m\u001b[0m\u001b[0;34m\u001b[0m\u001b[0m\n\u001b[0m\u001b[1;32m     65\u001b[0m     \u001b[0;32mexcept\u001b[0m \u001b[0mException\u001b[0m \u001b[0;32mas\u001b[0m \u001b[0me\u001b[0m\u001b[0;34m:\u001b[0m  \u001b[0;31m# pylint: disable=broad-except\u001b[0m\u001b[0;34m\u001b[0m\u001b[0;34m\u001b[0m\u001b[0m\n\u001b[1;32m     66\u001b[0m       \u001b[0mfiltered_tb\u001b[0m \u001b[0;34m=\u001b[0m \u001b[0m_process_traceback_frames\u001b[0m\u001b[0;34m(\u001b[0m\u001b[0me\u001b[0m\u001b[0;34m.\u001b[0m\u001b[0m__traceback__\u001b[0m\u001b[0;34m)\u001b[0m\u001b[0;34m\u001b[0m\u001b[0;34m\u001b[0m\u001b[0m\n",
      "\u001b[0;32m/usr/local/lib/python3.7/dist-packages/keras/engine/training.py\u001b[0m in \u001b[0;36mfit\u001b[0;34m(self, x, y, batch_size, epochs, verbose, callbacks, validation_split, validation_data, shuffle, class_weight, sample_weight, initial_epoch, steps_per_epoch, validation_steps, validation_batch_size, validation_freq, max_queue_size, workers, use_multiprocessing)\u001b[0m\n\u001b[1;32m   1203\u001b[0m       \u001b[0mlogs\u001b[0m \u001b[0;34m=\u001b[0m \u001b[0;32mNone\u001b[0m\u001b[0;34m\u001b[0m\u001b[0;34m\u001b[0m\u001b[0m\n\u001b[1;32m   1204\u001b[0m       \u001b[0;32mfor\u001b[0m \u001b[0mepoch\u001b[0m\u001b[0;34m,\u001b[0m \u001b[0miterator\u001b[0m \u001b[0;32min\u001b[0m \u001b[0mdata_handler\u001b[0m\u001b[0;34m.\u001b[0m\u001b[0menumerate_epochs\u001b[0m\u001b[0;34m(\u001b[0m\u001b[0;34m)\u001b[0m\u001b[0;34m:\u001b[0m\u001b[0;34m\u001b[0m\u001b[0;34m\u001b[0m\u001b[0m\n\u001b[0;32m-> 1205\u001b[0;31m         \u001b[0mself\u001b[0m\u001b[0;34m.\u001b[0m\u001b[0mreset_metrics\u001b[0m\u001b[0;34m(\u001b[0m\u001b[0;34m)\u001b[0m\u001b[0;34m\u001b[0m\u001b[0;34m\u001b[0m\u001b[0m\n\u001b[0m\u001b[1;32m   1206\u001b[0m         \u001b[0mcallbacks\u001b[0m\u001b[0;34m.\u001b[0m\u001b[0mon_epoch_begin\u001b[0m\u001b[0;34m(\u001b[0m\u001b[0mepoch\u001b[0m\u001b[0;34m)\u001b[0m\u001b[0;34m\u001b[0m\u001b[0;34m\u001b[0m\u001b[0m\n\u001b[1;32m   1207\u001b[0m         \u001b[0;32mwith\u001b[0m \u001b[0mdata_handler\u001b[0m\u001b[0;34m.\u001b[0m\u001b[0mcatch_stop_iteration\u001b[0m\u001b[0;34m(\u001b[0m\u001b[0;34m)\u001b[0m\u001b[0;34m:\u001b[0m\u001b[0;34m\u001b[0m\u001b[0;34m\u001b[0m\u001b[0m\n",
      "\u001b[0;31mKeyboardInterrupt\u001b[0m: "
     ]
    }
   ],
   "source": [
    "a164_model = ran_model\n",
    "\n",
    "a164_model.compile(optimizer=our_optimizer, \n",
    "                   loss=tf.keras.losses.CategoricalCrossentropy(), \n",
    "                   metrics=['accuracy'])\n",
    "\n",
    "\n",
    "history = a164_model.fit(train_ds,\n",
    "                         validation_data=val_ds,\n",
    "                         epochs=N_EPOCH, verbose=1)"
   ]
  },
  {
   "cell_type": "code",
   "execution_count": null,
   "metadata": {},
   "outputs": [],
   "source": []
  },
  {
   "cell_type": "code",
   "execution_count": null,
   "metadata": {},
   "outputs": [],
   "source": []
  }
 ],
 "metadata": {
  "accelerator": "GPU",
  "colab": {
   "collapsed_sections": [],
   "name": "multi_arch-cifar10.ipynb",
   "provenance": [],
   "toc_visible": true
  },
  "kernelspec": {
   "display_name": "Python 3",
   "language": "python",
   "name": "python3"
  },
  "language_info": {
   "codemirror_mode": {
    "name": "ipython",
    "version": 3
   },
   "file_extension": ".py",
   "mimetype": "text/x-python",
   "name": "python",
   "nbconvert_exporter": "python",
   "pygments_lexer": "ipython3",
   "version": "3.7.12"
  },
  "toc": {
   "base_numbering": 1,
   "nav_menu": {},
   "number_sections": true,
   "sideBar": true,
   "skip_h1_title": false,
   "title_cell": "Table of Contents",
   "title_sidebar": "Contents",
   "toc_cell": false,
   "toc_position": {
    "height": "calc(100% - 180px)",
    "left": "10px",
    "top": "150px",
    "width": "302.4px"
   },
   "toc_section_display": true,
   "toc_window_display": true
  }
 },
 "nbformat": 4,
 "nbformat_minor": 1
}
